{
 "cells": [
  {
   "cell_type": "markdown",
   "metadata": {},
   "source": [
    "## 1. 패키지 불러오기"
   ]
  },
  {
   "cell_type": "code",
   "execution_count": 2,
   "metadata": {},
   "outputs": [],
   "source": [
    "import os\n",
    "import sys\n",
    "\n",
    "import pandas as pd\n",
    "import numpy as np\n",
    "import matplotlib.pyplot as plt\n",
    "%matplotlib inline \n",
    "import seaborn as sns"
   ]
  },
  {
   "cell_type": "markdown",
   "metadata": {},
   "source": [
    "## 2. 데이터 불러오기"
   ]
  },
  {
   "cell_type": "code",
   "execution_count": 5,
   "metadata": {},
   "outputs": [
    {
     "data": {
      "text/plain": [
       "'C:\\\\Users\\\\user123\\\\Desktop\\\\ADS_NGBoost'"
      ]
     },
     "execution_count": 5,
     "metadata": {},
     "output_type": "execute_result"
    }
   ],
   "source": [
    "os.getcwd()"
   ]
  },
  {
   "cell_type": "code",
   "execution_count": 6,
   "metadata": {},
   "outputs": [],
   "source": [
    "df = pd.read_csv('C:/Users/user123/Desktop/ADS_NGBoost/drug200.csv')"
   ]
  },
  {
   "cell_type": "code",
   "execution_count": 4,
   "metadata": {},
   "outputs": [
    {
     "data": {
      "text/html": [
       "<div>\n",
       "<style scoped>\n",
       "    .dataframe tbody tr th:only-of-type {\n",
       "        vertical-align: middle;\n",
       "    }\n",
       "\n",
       "    .dataframe tbody tr th {\n",
       "        vertical-align: top;\n",
       "    }\n",
       "\n",
       "    .dataframe thead th {\n",
       "        text-align: right;\n",
       "    }\n",
       "</style>\n",
       "<table border=\"1\" class=\"dataframe\">\n",
       "  <thead>\n",
       "    <tr style=\"text-align: right;\">\n",
       "      <th></th>\n",
       "      <th>Age</th>\n",
       "      <th>Sex</th>\n",
       "      <th>BP</th>\n",
       "      <th>Cholesterol</th>\n",
       "      <th>Na_to_K</th>\n",
       "      <th>Drug</th>\n",
       "    </tr>\n",
       "  </thead>\n",
       "  <tbody>\n",
       "    <tr>\n",
       "      <th>0</th>\n",
       "      <td>23</td>\n",
       "      <td>F</td>\n",
       "      <td>HIGH</td>\n",
       "      <td>HIGH</td>\n",
       "      <td>25.355</td>\n",
       "      <td>DrugY</td>\n",
       "    </tr>\n",
       "    <tr>\n",
       "      <th>1</th>\n",
       "      <td>47</td>\n",
       "      <td>M</td>\n",
       "      <td>LOW</td>\n",
       "      <td>HIGH</td>\n",
       "      <td>13.093</td>\n",
       "      <td>drugC</td>\n",
       "    </tr>\n",
       "    <tr>\n",
       "      <th>2</th>\n",
       "      <td>47</td>\n",
       "      <td>M</td>\n",
       "      <td>LOW</td>\n",
       "      <td>HIGH</td>\n",
       "      <td>10.114</td>\n",
       "      <td>drugC</td>\n",
       "    </tr>\n",
       "    <tr>\n",
       "      <th>3</th>\n",
       "      <td>28</td>\n",
       "      <td>F</td>\n",
       "      <td>NORMAL</td>\n",
       "      <td>HIGH</td>\n",
       "      <td>7.798</td>\n",
       "      <td>drugX</td>\n",
       "    </tr>\n",
       "    <tr>\n",
       "      <th>4</th>\n",
       "      <td>61</td>\n",
       "      <td>F</td>\n",
       "      <td>LOW</td>\n",
       "      <td>HIGH</td>\n",
       "      <td>18.043</td>\n",
       "      <td>DrugY</td>\n",
       "    </tr>\n",
       "  </tbody>\n",
       "</table>\n",
       "</div>"
      ],
      "text/plain": [
       "   Age Sex      BP Cholesterol  Na_to_K   Drug\n",
       "0   23   F    HIGH        HIGH   25.355  DrugY\n",
       "1   47   M     LOW        HIGH   13.093  drugC\n",
       "2   47   M     LOW        HIGH   10.114  drugC\n",
       "3   28   F  NORMAL        HIGH    7.798  drugX\n",
       "4   61   F     LOW        HIGH   18.043  DrugY"
      ]
     },
     "execution_count": 4,
     "metadata": {},
     "output_type": "execute_result"
    }
   ],
   "source": [
    "df.head()"
   ]
  },
  {
   "cell_type": "markdown",
   "metadata": {},
   "source": [
    "- 총 변수는 6개"
   ]
  },
  {
   "cell_type": "code",
   "execution_count": 5,
   "metadata": {},
   "outputs": [
    {
     "name": "stdout",
     "output_type": "stream",
     "text": [
      "<class 'pandas.core.frame.DataFrame'>\n",
      "RangeIndex: 200 entries, 0 to 199\n",
      "Data columns (total 6 columns):\n",
      " #   Column       Non-Null Count  Dtype  \n",
      "---  ------       --------------  -----  \n",
      " 0   Age          200 non-null    int64  \n",
      " 1   Sex          200 non-null    object \n",
      " 2   BP           200 non-null    object \n",
      " 3   Cholesterol  200 non-null    object \n",
      " 4   Na_to_K      200 non-null    float64\n",
      " 5   Drug         200 non-null    object \n",
      "dtypes: float64(1), int64(1), object(4)\n",
      "memory usage: 9.5+ KB\n"
     ]
    }
   ],
   "source": [
    "df.info()"
   ]
  },
  {
   "cell_type": "code",
   "execution_count": 6,
   "metadata": {},
   "outputs": [],
   "source": [
    "df_description = {'Age' : 'Age of the Patient',\n",
    "                 'Sex' : 'Gender of the patients',\n",
    "                 'BP' : 'Blood Pressure Levels',\n",
    "                 'Cholesterol' : 'Cholesterol Levels',\n",
    "                 'Na_to_K' : 'Sodium to potassium Ratio in Blood',\n",
    "                 'Drug' : 'Drug Type'}"
   ]
  },
  {
   "cell_type": "code",
   "execution_count": 7,
   "metadata": {},
   "outputs": [
    {
     "data": {
      "text/plain": [
       "{'Age': 'Age of the Patient',\n",
       " 'Sex': 'Gender of the patients',\n",
       " 'BP': 'Blood Pressure Levels',\n",
       " 'Cholesterol': 'Cholesterol Levels',\n",
       " 'Na_to_K': 'Sodium to potassium Ratio in Blood',\n",
       " 'Drug': 'Drug Type'}"
      ]
     },
     "metadata": {},
     "output_type": "display_data"
    }
   ],
   "source": [
    "display(df_description)"
   ]
  },
  {
   "cell_type": "code",
   "execution_count": 8,
   "metadata": {},
   "outputs": [
    {
     "data": {
      "text/plain": [
       "Age            0\n",
       "Sex            0\n",
       "BP             0\n",
       "Cholesterol    0\n",
       "Na_to_K        0\n",
       "Drug           0\n",
       "dtype: int64"
      ]
     },
     "execution_count": 8,
     "metadata": {},
     "output_type": "execute_result"
    }
   ],
   "source": [
    "df.isnull().sum()"
   ]
  },
  {
   "cell_type": "markdown",
   "metadata": {},
   "source": [
    "- 결측치 X"
   ]
  },
  {
   "cell_type": "markdown",
   "metadata": {},
   "source": [
    "## 3. EDA"
   ]
  },
  {
   "cell_type": "markdown",
   "metadata": {},
   "source": [
    "- 판다스 프로파일링"
   ]
  },
  {
   "cell_type": "code",
   "execution_count": 10,
   "metadata": {},
   "outputs": [],
   "source": [
    "import pandas_profiling"
   ]
  },
  {
   "cell_type": "code",
   "execution_count": 11,
   "metadata": {},
   "outputs": [],
   "source": [
    "pr = df.profile_report()"
   ]
  },
  {
   "cell_type": "code",
   "execution_count": 12,
   "metadata": {},
   "outputs": [
    {
     "data": {
      "application/vnd.jupyter.widget-view+json": {
       "model_id": "17ffe9f6ebba447d8cc49d4ca186d0b8",
       "version_major": 2,
       "version_minor": 0
      },
      "text/plain": [
       "Summarize dataset:   0%|          | 0/5 [00:00<?, ?it/s]"
      ]
     },
     "metadata": {},
     "output_type": "display_data"
    },
    {
     "data": {
      "application/vnd.jupyter.widget-view+json": {
       "model_id": "4ccb5c35ddfd420db34bbbb8792a381f",
       "version_major": 2,
       "version_minor": 0
      },
      "text/plain": [
       "Generate report structure:   0%|          | 0/1 [00:00<?, ?it/s]"
      ]
     },
     "metadata": {},
     "output_type": "display_data"
    },
    {
     "data": {
      "application/vnd.jupyter.widget-view+json": {
       "model_id": "f15060c0c1ac455f95774c2304cec79b",
       "version_major": 2,
       "version_minor": 0
      },
      "text/plain": [
       "Render HTML:   0%|          | 0/1 [00:00<?, ?it/s]"
      ]
     },
     "metadata": {},
     "output_type": "display_data"
    },
    {
     "data": {
      "application/vnd.jupyter.widget-view+json": {
       "model_id": "1459e07f0aec4797ac6ff1c65a52372b",
       "version_major": 2,
       "version_minor": 0
      },
      "text/plain": [
       "Export report to file:   0%|          | 0/1 [00:00<?, ?it/s]"
      ]
     },
     "metadata": {},
     "output_type": "display_data"
    }
   ],
   "source": [
    "pr.to_file('./pr_report.html')"
   ]
  },
  {
   "cell_type": "markdown",
   "metadata": {},
   "source": [
    "- 보기 용이하게 하기 위해서 약물 값들만 미리 간소화해서 매핑"
   ]
  },
  {
   "cell_type": "code",
   "execution_count": 9,
   "metadata": {},
   "outputs": [],
   "source": [
    "Drug = {'DrugY':'Y', 'drugX':'X', 'drugA':'A', 'drugB':'B', 'drugC':'C'}\n",
    "df['Drug'] = df['Drug'].replace(Drug)"
   ]
  },
  {
   "cell_type": "markdown",
   "metadata": {},
   "source": [
    "- 약 별로 변수들이 어떻게 분포되어있을까?"
   ]
  },
  {
   "cell_type": "markdown",
   "metadata": {},
   "source": [
    "- 수치형 변수부터"
   ]
  },
  {
   "cell_type": "code",
   "execution_count": 10,
   "metadata": {},
   "outputs": [
    {
     "data": {
      "text/plain": [
       "<matplotlib.axes._subplots.AxesSubplot at 0x233282aa7c0>"
      ]
     },
     "execution_count": 10,
     "metadata": {},
     "output_type": "execute_result"
    },
    {
     "data": {
      "image/png": "[encoded data removed]",
      "text/plain": [
       "<Figure size 432x288 with 1 Axes>"
      ]
     },
     "metadata": {
      "needs_background": "light"
     },
     "output_type": "display_data"
    }
   ],
   "source": [
    "# 섭취하는 약물 별 환자들의 나이\n",
    "sns.boxplot(x='Age',y='Drug',data=df)"
   ]
  },
  {
   "cell_type": "markdown",
   "metadata": {},
   "source": [
    "- 상대적으로 약물 A는 젊은층, 약물 B는 고연령층에서 섭취"
   ]
  },
  {
   "cell_type": "code",
   "execution_count": 11,
   "metadata": {},
   "outputs": [
    {
     "data": {
      "text/plain": [
       "<matplotlib.axes._subplots.AxesSubplot at 0x2337b20f520>"
      ]
     },
     "execution_count": 11,
     "metadata": {},
     "output_type": "execute_result"
    },
    {
     "data": {
      "image/png": "[encoded data removed]",
      "text/plain": [
       "<Figure size 432x288 with 1 Axes>"
      ]
     },
     "metadata": {
      "needs_background": "light"
     },
     "output_type": "display_data"
    }
   ],
   "source": [
    "# 섭취하는 약물 별 환자들의 칼륨 대비 나트륨 비율\n",
    "sns.boxplot(x='Na_to_K',y='Drug',data=df)"
   ]
  },
  {
   "cell_type": "markdown",
   "metadata": {},
   "source": [
    "- 약물 Y의 경우 혈중 칼륨 대비 나트륨 수치가 높은 환자들을 위한 약"
   ]
  },
  {
   "cell_type": "markdown",
   "metadata": {},
   "source": [
    "- 범주형 변수"
   ]
  },
  {
   "cell_type": "code",
   "execution_count": 12,
   "metadata": {},
   "outputs": [
    {
     "data": {
      "text/plain": [
       "<matplotlib.axes._subplots.AxesSubplot at 0x2337b2e7070>"
      ]
     },
     "execution_count": 12,
     "metadata": {},
     "output_type": "execute_result"
    },
    {
     "data": {
      "image/png": "[encoded data removed]",
      "text/plain": [
       "<Figure size 432x288 with 1 Axes>"
      ]
     },
     "metadata": {
      "needs_background": "light"
     },
     "output_type": "display_data"
    }
   ],
   "source": [
    "# 섭취하는 약물 별 성별\n",
    "sns.countplot(x='Drug',hue='Sex',data=df)"
   ]
  },
  {
   "cell_type": "markdown",
   "metadata": {},
   "source": [
    "- 성별은 각 약물별로 크게 차이있지는 않음"
   ]
  },
  {
   "cell_type": "code",
   "execution_count": 13,
   "metadata": {},
   "outputs": [
    {
     "data": {
      "text/plain": [
       "<matplotlib.axes._subplots.AxesSubplot at 0x2337b357dc0>"
      ]
     },
     "execution_count": 13,
     "metadata": {},
     "output_type": "execute_result"
    },
    {
     "data": {
      "image/png": "[encoded data removed]",
      "text/plain": [
       "<Figure size 432x288 with 1 Axes>"
      ]
     },
     "metadata": {
      "needs_background": "light"
     },
     "output_type": "display_data"
    }
   ],
   "source": [
    "# 섭취하는 약물 별 성별\n",
    "sns.countplot(x='Drug',hue='BP',data=df)"
   ]
  },
  {
   "cell_type": "markdown",
   "metadata": {},
   "source": [
    "- 약물 C는 저혈압, 약물 A,B,Y(?)는 고혈압 환자들을 위한 처방"
   ]
  },
  {
   "cell_type": "code",
   "execution_count": 14,
   "metadata": {},
   "outputs": [
    {
     "data": {
      "text/plain": [
       "<matplotlib.axes._subplots.AxesSubplot at 0x2337b357af0>"
      ]
     },
     "execution_count": 14,
     "metadata": {},
     "output_type": "execute_result"
    },
    {
     "data": {
      "image/png": "[encoded data removed]",
      "text/plain": [
       "<Figure size 432x288 with 1 Axes>"
      ]
     },
     "metadata": {
      "needs_background": "light"
     },
     "output_type": "display_data"
    }
   ],
   "source": [
    "# 섭취하는 약물 별 성별\n",
    "sns.countplot(x='Drug',hue='Cholesterol',data=df)"
   ]
  },
  {
   "cell_type": "markdown",
   "metadata": {},
   "source": [
    "- 약물 C는 콜레스테롤 수치가 높은 사람들을 위한 약"
   ]
  },
  {
   "cell_type": "markdown",
   "metadata": {},
   "source": [
    "#### EDA 결과 나의 소견\n",
    "- 약물 A와 B는 혈압이 높은 환자들을 위해 처방되지만 연령층에 따라 다르게 먹는 듯\n",
    "- 약물 C는 콜레스테롤 수치가 높고 저혈압인 환자들을 위해 처방 --> 콜레스테롤 수치와 혈압은 음의 상관관계인가? --> 찾아보니 그렇지는 않은 듯, 이번 데이터만 그런 듯\n",
    "- 약물 Y의 경우 혈중 칼륨 대비 나트륨 수치가 높은 환자들을 위한 약"
   ]
  },
  {
   "cell_type": "markdown",
   "metadata": {},
   "source": [
    "## 4. Feature Engineering"
   ]
  },
  {
   "cell_type": "markdown",
   "metadata": {},
   "source": [
    "- 수치로 매핑시켜주긴 했지만 사실 트리 기반 모델링을 할 예정이어서 불필요한 과정\n",
    "- pd.get_dummies() 함수로 해도 됨"
   ]
  },
  {
   "cell_type": "code",
   "execution_count": 15,
   "metadata": {},
   "outputs": [],
   "source": [
    "def preprocessing(data):\n",
    "    # 성별: F --> 0, M --> 1\n",
    "    Sex = {'F':0, 'M':1}\n",
    "    data['Sex'] = data['Sex'].replace(Sex)\n",
    "    \n",
    "    # BP: HIGH --> 2, NORMAL --> 1, LOW --> 0\n",
    "    bp = {'LOW':0, 'NORMAL':1, 'HIGH':2}\n",
    "    data['BP'] = data['BP'].replace(bp)\n",
    "    \n",
    "    # 콜레스테롤: High --> 1, Normal --> 0\n",
    "    Cholesterol = {'NORMAL':0, 'HIGH':1}\n",
    "    data['Cholesterol'] = data['Cholesterol'].replace(Cholesterol)\n",
    "    \n",
    "    return data"
   ]
  },
  {
   "cell_type": "code",
   "execution_count": 16,
   "metadata": {},
   "outputs": [],
   "source": [
    "df = preprocessing(df)"
   ]
  },
  {
   "cell_type": "code",
   "execution_count": 17,
   "metadata": {},
   "outputs": [
    {
     "data": {
      "text/html": [
       "<div>\n",
       "<style scoped>\n",
       "    .dataframe tbody tr th:only-of-type {\n",
       "        vertical-align: middle;\n",
       "    }\n",
       "\n",
       "    .dataframe tbody tr th {\n",
       "        vertical-align: top;\n",
       "    }\n",
       "\n",
       "    .dataframe thead th {\n",
       "        text-align: right;\n",
       "    }\n",
       "</style>\n",
       "<table border=\"1\" class=\"dataframe\">\n",
       "  <thead>\n",
       "    <tr style=\"text-align: right;\">\n",
       "      <th></th>\n",
       "      <th>Age</th>\n",
       "      <th>Sex</th>\n",
       "      <th>BP</th>\n",
       "      <th>Cholesterol</th>\n",
       "      <th>Na_to_K</th>\n",
       "      <th>Drug</th>\n",
       "    </tr>\n",
       "  </thead>\n",
       "  <tbody>\n",
       "    <tr>\n",
       "      <th>0</th>\n",
       "      <td>23</td>\n",
       "      <td>0</td>\n",
       "      <td>2</td>\n",
       "      <td>1</td>\n",
       "      <td>25.355</td>\n",
       "      <td>Y</td>\n",
       "    </tr>\n",
       "    <tr>\n",
       "      <th>1</th>\n",
       "      <td>47</td>\n",
       "      <td>1</td>\n",
       "      <td>0</td>\n",
       "      <td>1</td>\n",
       "      <td>13.093</td>\n",
       "      <td>C</td>\n",
       "    </tr>\n",
       "    <tr>\n",
       "      <th>2</th>\n",
       "      <td>47</td>\n",
       "      <td>1</td>\n",
       "      <td>0</td>\n",
       "      <td>1</td>\n",
       "      <td>10.114</td>\n",
       "      <td>C</td>\n",
       "    </tr>\n",
       "    <tr>\n",
       "      <th>3</th>\n",
       "      <td>28</td>\n",
       "      <td>0</td>\n",
       "      <td>1</td>\n",
       "      <td>1</td>\n",
       "      <td>7.798</td>\n",
       "      <td>X</td>\n",
       "    </tr>\n",
       "    <tr>\n",
       "      <th>4</th>\n",
       "      <td>61</td>\n",
       "      <td>0</td>\n",
       "      <td>0</td>\n",
       "      <td>1</td>\n",
       "      <td>18.043</td>\n",
       "      <td>Y</td>\n",
       "    </tr>\n",
       "  </tbody>\n",
       "</table>\n",
       "</div>"
      ],
      "text/plain": [
       "   Age  Sex  BP  Cholesterol  Na_to_K Drug\n",
       "0   23    0   2            1   25.355    Y\n",
       "1   47    1   0            1   13.093    C\n",
       "2   47    1   0            1   10.114    C\n",
       "3   28    0   1            1    7.798    X\n",
       "4   61    0   0            1   18.043    Y"
      ]
     },
     "execution_count": 17,
     "metadata": {},
     "output_type": "execute_result"
    }
   ],
   "source": [
    "df.head()"
   ]
  },
  {
   "cell_type": "markdown",
   "metadata": {},
   "source": [
    "## 5. Modeling"
   ]
  },
  {
   "cell_type": "markdown",
   "metadata": {},
   "source": [
    "- AutoML (?) 인지는 잘 모르겠지만 pycaret을 활용해서 간단하게 모델 비교"
   ]
  },
  {
   "cell_type": "code",
   "execution_count": 18,
   "metadata": {},
   "outputs": [],
   "source": [
    "from pycaret.classification import *"
   ]
  },
  {
   "cell_type": "code",
   "execution_count": 22,
   "metadata": {},
   "outputs": [
    {
     "data": {
      "text/html": [
       "<style  type=\"text/css\" >\n",
       "    #T_92803539_450f_11ec_9323_0c7a15232679row44_col1 {\n",
       "            background-color:  lightgreen;\n",
       "        }</style><table id=\"T_92803539_450f_11ec_9323_0c7a15232679\" ><thead>    <tr>        <th class=\"blank level0\" ></th>        <th class=\"col_heading level0 col0\" >Description</th>        <th class=\"col_heading level0 col1\" >Value</th>    </tr></thead><tbody>\n",
       "                <tr>\n",
       "                        <th id=\"T_92803539_450f_11ec_9323_0c7a15232679level0_row0\" class=\"row_heading level0 row0\" >0</th>\n",
       "                        <td id=\"T_92803539_450f_11ec_9323_0c7a15232679row0_col0\" class=\"data row0 col0\" >session_id</td>\n",
       "                        <td id=\"T_92803539_450f_11ec_9323_0c7a15232679row0_col1\" class=\"data row0 col1\" >6639</td>\n",
       "            </tr>\n",
       "            <tr>\n",
       "                        <th id=\"T_92803539_450f_11ec_9323_0c7a15232679level0_row1\" class=\"row_heading level0 row1\" >1</th>\n",
       "                        <td id=\"T_92803539_450f_11ec_9323_0c7a15232679row1_col0\" class=\"data row1 col0\" >Target</td>\n",
       "                        <td id=\"T_92803539_450f_11ec_9323_0c7a15232679row1_col1\" class=\"data row1 col1\" >Drug</td>\n",
       "            </tr>\n",
       "            <tr>\n",
       "                        <th id=\"T_92803539_450f_11ec_9323_0c7a15232679level0_row2\" class=\"row_heading level0 row2\" >2</th>\n",
       "                        <td id=\"T_92803539_450f_11ec_9323_0c7a15232679row2_col0\" class=\"data row2 col0\" >Target Type</td>\n",
       "                        <td id=\"T_92803539_450f_11ec_9323_0c7a15232679row2_col1\" class=\"data row2 col1\" >Multiclass</td>\n",
       "            </tr>\n",
       "            <tr>\n",
       "                        <th id=\"T_92803539_450f_11ec_9323_0c7a15232679level0_row3\" class=\"row_heading level0 row3\" >3</th>\n",
       "                        <td id=\"T_92803539_450f_11ec_9323_0c7a15232679row3_col0\" class=\"data row3 col0\" >Label Encoded</td>\n",
       "                        <td id=\"T_92803539_450f_11ec_9323_0c7a15232679row3_col1\" class=\"data row3 col1\" >A: 0, B: 1, C: 2, X: 3, Y: 4</td>\n",
       "            </tr>\n",
       "            <tr>\n",
       "                        <th id=\"T_92803539_450f_11ec_9323_0c7a15232679level0_row4\" class=\"row_heading level0 row4\" >4</th>\n",
       "                        <td id=\"T_92803539_450f_11ec_9323_0c7a15232679row4_col0\" class=\"data row4 col0\" >Original Data</td>\n",
       "                        <td id=\"T_92803539_450f_11ec_9323_0c7a15232679row4_col1\" class=\"data row4 col1\" >(200, 6)</td>\n",
       "            </tr>\n",
       "            <tr>\n",
       "                        <th id=\"T_92803539_450f_11ec_9323_0c7a15232679level0_row5\" class=\"row_heading level0 row5\" >5</th>\n",
       "                        <td id=\"T_92803539_450f_11ec_9323_0c7a15232679row5_col0\" class=\"data row5 col0\" >Missing Values</td>\n",
       "                        <td id=\"T_92803539_450f_11ec_9323_0c7a15232679row5_col1\" class=\"data row5 col1\" >False</td>\n",
       "            </tr>\n",
       "            <tr>\n",
       "                        <th id=\"T_92803539_450f_11ec_9323_0c7a15232679level0_row6\" class=\"row_heading level0 row6\" >6</th>\n",
       "                        <td id=\"T_92803539_450f_11ec_9323_0c7a15232679row6_col0\" class=\"data row6 col0\" >Numeric Features</td>\n",
       "                        <td id=\"T_92803539_450f_11ec_9323_0c7a15232679row6_col1\" class=\"data row6 col1\" >2</td>\n",
       "            </tr>\n",
       "            <tr>\n",
       "                        <th id=\"T_92803539_450f_11ec_9323_0c7a15232679level0_row7\" class=\"row_heading level0 row7\" >7</th>\n",
       "                        <td id=\"T_92803539_450f_11ec_9323_0c7a15232679row7_col0\" class=\"data row7 col0\" >Categorical Features</td>\n",
       "                        <td id=\"T_92803539_450f_11ec_9323_0c7a15232679row7_col1\" class=\"data row7 col1\" >3</td>\n",
       "            </tr>\n",
       "            <tr>\n",
       "                        <th id=\"T_92803539_450f_11ec_9323_0c7a15232679level0_row8\" class=\"row_heading level0 row8\" >8</th>\n",
       "                        <td id=\"T_92803539_450f_11ec_9323_0c7a15232679row8_col0\" class=\"data row8 col0\" >Ordinal Features</td>\n",
       "                        <td id=\"T_92803539_450f_11ec_9323_0c7a15232679row8_col1\" class=\"data row8 col1\" >False</td>\n",
       "            </tr>\n",
       "            <tr>\n",
       "                        <th id=\"T_92803539_450f_11ec_9323_0c7a15232679level0_row9\" class=\"row_heading level0 row9\" >9</th>\n",
       "                        <td id=\"T_92803539_450f_11ec_9323_0c7a15232679row9_col0\" class=\"data row9 col0\" >High Cardinality Features</td>\n",
       "                        <td id=\"T_92803539_450f_11ec_9323_0c7a15232679row9_col1\" class=\"data row9 col1\" >False</td>\n",
       "            </tr>\n",
       "            <tr>\n",
       "                        <th id=\"T_92803539_450f_11ec_9323_0c7a15232679level0_row10\" class=\"row_heading level0 row10\" >10</th>\n",
       "                        <td id=\"T_92803539_450f_11ec_9323_0c7a15232679row10_col0\" class=\"data row10 col0\" >High Cardinality Method</td>\n",
       "                        <td id=\"T_92803539_450f_11ec_9323_0c7a15232679row10_col1\" class=\"data row10 col1\" >None</td>\n",
       "            </tr>\n",
       "            <tr>\n",
       "                        <th id=\"T_92803539_450f_11ec_9323_0c7a15232679level0_row11\" class=\"row_heading level0 row11\" >11</th>\n",
       "                        <td id=\"T_92803539_450f_11ec_9323_0c7a15232679row11_col0\" class=\"data row11 col0\" >Transformed Train Set</td>\n",
       "                        <td id=\"T_92803539_450f_11ec_9323_0c7a15232679row11_col1\" class=\"data row11 col1\" >(139, 7)</td>\n",
       "            </tr>\n",
       "            <tr>\n",
       "                        <th id=\"T_92803539_450f_11ec_9323_0c7a15232679level0_row12\" class=\"row_heading level0 row12\" >12</th>\n",
       "                        <td id=\"T_92803539_450f_11ec_9323_0c7a15232679row12_col0\" class=\"data row12 col0\" >Transformed Test Set</td>\n",
       "                        <td id=\"T_92803539_450f_11ec_9323_0c7a15232679row12_col1\" class=\"data row12 col1\" >(61, 7)</td>\n",
       "            </tr>\n",
       "            <tr>\n",
       "                        <th id=\"T_92803539_450f_11ec_9323_0c7a15232679level0_row13\" class=\"row_heading level0 row13\" >13</th>\n",
       "                        <td id=\"T_92803539_450f_11ec_9323_0c7a15232679row13_col0\" class=\"data row13 col0\" >Shuffle Train-Test</td>\n",
       "                        <td id=\"T_92803539_450f_11ec_9323_0c7a15232679row13_col1\" class=\"data row13 col1\" >True</td>\n",
       "            </tr>\n",
       "            <tr>\n",
       "                        <th id=\"T_92803539_450f_11ec_9323_0c7a15232679level0_row14\" class=\"row_heading level0 row14\" >14</th>\n",
       "                        <td id=\"T_92803539_450f_11ec_9323_0c7a15232679row14_col0\" class=\"data row14 col0\" >Stratify Train-Test</td>\n",
       "                        <td id=\"T_92803539_450f_11ec_9323_0c7a15232679row14_col1\" class=\"data row14 col1\" >False</td>\n",
       "            </tr>\n",
       "            <tr>\n",
       "                        <th id=\"T_92803539_450f_11ec_9323_0c7a15232679level0_row15\" class=\"row_heading level0 row15\" >15</th>\n",
       "                        <td id=\"T_92803539_450f_11ec_9323_0c7a15232679row15_col0\" class=\"data row15 col0\" >Fold Generator</td>\n",
       "                        <td id=\"T_92803539_450f_11ec_9323_0c7a15232679row15_col1\" class=\"data row15 col1\" >StratifiedKFold</td>\n",
       "            </tr>\n",
       "            <tr>\n",
       "                        <th id=\"T_92803539_450f_11ec_9323_0c7a15232679level0_row16\" class=\"row_heading level0 row16\" >16</th>\n",
       "                        <td id=\"T_92803539_450f_11ec_9323_0c7a15232679row16_col0\" class=\"data row16 col0\" >Fold Number</td>\n",
       "                        <td id=\"T_92803539_450f_11ec_9323_0c7a15232679row16_col1\" class=\"data row16 col1\" >10</td>\n",
       "            </tr>\n",
       "            <tr>\n",
       "                        <th id=\"T_92803539_450f_11ec_9323_0c7a15232679level0_row17\" class=\"row_heading level0 row17\" >17</th>\n",
       "                        <td id=\"T_92803539_450f_11ec_9323_0c7a15232679row17_col0\" class=\"data row17 col0\" >CPU Jobs</td>\n",
       "                        <td id=\"T_92803539_450f_11ec_9323_0c7a15232679row17_col1\" class=\"data row17 col1\" >-1</td>\n",
       "            </tr>\n",
       "            <tr>\n",
       "                        <th id=\"T_92803539_450f_11ec_9323_0c7a15232679level0_row18\" class=\"row_heading level0 row18\" >18</th>\n",
       "                        <td id=\"T_92803539_450f_11ec_9323_0c7a15232679row18_col0\" class=\"data row18 col0\" >Use GPU</td>\n",
       "                        <td id=\"T_92803539_450f_11ec_9323_0c7a15232679row18_col1\" class=\"data row18 col1\" >False</td>\n",
       "            </tr>\n",
       "            <tr>\n",
       "                        <th id=\"T_92803539_450f_11ec_9323_0c7a15232679level0_row19\" class=\"row_heading level0 row19\" >19</th>\n",
       "                        <td id=\"T_92803539_450f_11ec_9323_0c7a15232679row19_col0\" class=\"data row19 col0\" >Log Experiment</td>\n",
       "                        <td id=\"T_92803539_450f_11ec_9323_0c7a15232679row19_col1\" class=\"data row19 col1\" >False</td>\n",
       "            </tr>\n",
       "            <tr>\n",
       "                        <th id=\"T_92803539_450f_11ec_9323_0c7a15232679level0_row20\" class=\"row_heading level0 row20\" >20</th>\n",
       "                        <td id=\"T_92803539_450f_11ec_9323_0c7a15232679row20_col0\" class=\"data row20 col0\" >Experiment Name</td>\n",
       "                        <td id=\"T_92803539_450f_11ec_9323_0c7a15232679row20_col1\" class=\"data row20 col1\" >clf-default-name</td>\n",
       "            </tr>\n",
       "            <tr>\n",
       "                        <th id=\"T_92803539_450f_11ec_9323_0c7a15232679level0_row21\" class=\"row_heading level0 row21\" >21</th>\n",
       "                        <td id=\"T_92803539_450f_11ec_9323_0c7a15232679row21_col0\" class=\"data row21 col0\" >USI</td>\n",
       "                        <td id=\"T_92803539_450f_11ec_9323_0c7a15232679row21_col1\" class=\"data row21 col1\" >5e2f</td>\n",
       "            </tr>\n",
       "            <tr>\n",
       "                        <th id=\"T_92803539_450f_11ec_9323_0c7a15232679level0_row22\" class=\"row_heading level0 row22\" >22</th>\n",
       "                        <td id=\"T_92803539_450f_11ec_9323_0c7a15232679row22_col0\" class=\"data row22 col0\" >Imputation Type</td>\n",
       "                        <td id=\"T_92803539_450f_11ec_9323_0c7a15232679row22_col1\" class=\"data row22 col1\" >simple</td>\n",
       "            </tr>\n",
       "            <tr>\n",
       "                        <th id=\"T_92803539_450f_11ec_9323_0c7a15232679level0_row23\" class=\"row_heading level0 row23\" >23</th>\n",
       "                        <td id=\"T_92803539_450f_11ec_9323_0c7a15232679row23_col0\" class=\"data row23 col0\" >Iterative Imputation Iteration</td>\n",
       "                        <td id=\"T_92803539_450f_11ec_9323_0c7a15232679row23_col1\" class=\"data row23 col1\" >None</td>\n",
       "            </tr>\n",
       "            <tr>\n",
       "                        <th id=\"T_92803539_450f_11ec_9323_0c7a15232679level0_row24\" class=\"row_heading level0 row24\" >24</th>\n",
       "                        <td id=\"T_92803539_450f_11ec_9323_0c7a15232679row24_col0\" class=\"data row24 col0\" >Numeric Imputer</td>\n",
       "                        <td id=\"T_92803539_450f_11ec_9323_0c7a15232679row24_col1\" class=\"data row24 col1\" >mean</td>\n",
       "            </tr>\n",
       "            <tr>\n",
       "                        <th id=\"T_92803539_450f_11ec_9323_0c7a15232679level0_row25\" class=\"row_heading level0 row25\" >25</th>\n",
       "                        <td id=\"T_92803539_450f_11ec_9323_0c7a15232679row25_col0\" class=\"data row25 col0\" >Iterative Imputation Numeric Model</td>\n",
       "                        <td id=\"T_92803539_450f_11ec_9323_0c7a15232679row25_col1\" class=\"data row25 col1\" >None</td>\n",
       "            </tr>\n",
       "            <tr>\n",
       "                        <th id=\"T_92803539_450f_11ec_9323_0c7a15232679level0_row26\" class=\"row_heading level0 row26\" >26</th>\n",
       "                        <td id=\"T_92803539_450f_11ec_9323_0c7a15232679row26_col0\" class=\"data row26 col0\" >Categorical Imputer</td>\n",
       "                        <td id=\"T_92803539_450f_11ec_9323_0c7a15232679row26_col1\" class=\"data row26 col1\" >constant</td>\n",
       "            </tr>\n",
       "            <tr>\n",
       "                        <th id=\"T_92803539_450f_11ec_9323_0c7a15232679level0_row27\" class=\"row_heading level0 row27\" >27</th>\n",
       "                        <td id=\"T_92803539_450f_11ec_9323_0c7a15232679row27_col0\" class=\"data row27 col0\" >Iterative Imputation Categorical Model</td>\n",
       "                        <td id=\"T_92803539_450f_11ec_9323_0c7a15232679row27_col1\" class=\"data row27 col1\" >None</td>\n",
       "            </tr>\n",
       "            <tr>\n",
       "                        <th id=\"T_92803539_450f_11ec_9323_0c7a15232679level0_row28\" class=\"row_heading level0 row28\" >28</th>\n",
       "                        <td id=\"T_92803539_450f_11ec_9323_0c7a15232679row28_col0\" class=\"data row28 col0\" >Unknown Categoricals Handling</td>\n",
       "                        <td id=\"T_92803539_450f_11ec_9323_0c7a15232679row28_col1\" class=\"data row28 col1\" >least_frequent</td>\n",
       "            </tr>\n",
       "            <tr>\n",
       "                        <th id=\"T_92803539_450f_11ec_9323_0c7a15232679level0_row29\" class=\"row_heading level0 row29\" >29</th>\n",
       "                        <td id=\"T_92803539_450f_11ec_9323_0c7a15232679row29_col0\" class=\"data row29 col0\" >Normalize</td>\n",
       "                        <td id=\"T_92803539_450f_11ec_9323_0c7a15232679row29_col1\" class=\"data row29 col1\" >False</td>\n",
       "            </tr>\n",
       "            <tr>\n",
       "                        <th id=\"T_92803539_450f_11ec_9323_0c7a15232679level0_row30\" class=\"row_heading level0 row30\" >30</th>\n",
       "                        <td id=\"T_92803539_450f_11ec_9323_0c7a15232679row30_col0\" class=\"data row30 col0\" >Normalize Method</td>\n",
       "                        <td id=\"T_92803539_450f_11ec_9323_0c7a15232679row30_col1\" class=\"data row30 col1\" >None</td>\n",
       "            </tr>\n",
       "            <tr>\n",
       "                        <th id=\"T_92803539_450f_11ec_9323_0c7a15232679level0_row31\" class=\"row_heading level0 row31\" >31</th>\n",
       "                        <td id=\"T_92803539_450f_11ec_9323_0c7a15232679row31_col0\" class=\"data row31 col0\" >Transformation</td>\n",
       "                        <td id=\"T_92803539_450f_11ec_9323_0c7a15232679row31_col1\" class=\"data row31 col1\" >False</td>\n",
       "            </tr>\n",
       "            <tr>\n",
       "                        <th id=\"T_92803539_450f_11ec_9323_0c7a15232679level0_row32\" class=\"row_heading level0 row32\" >32</th>\n",
       "                        <td id=\"T_92803539_450f_11ec_9323_0c7a15232679row32_col0\" class=\"data row32 col0\" >Transformation Method</td>\n",
       "                        <td id=\"T_92803539_450f_11ec_9323_0c7a15232679row32_col1\" class=\"data row32 col1\" >None</td>\n",
       "            </tr>\n",
       "            <tr>\n",
       "                        <th id=\"T_92803539_450f_11ec_9323_0c7a15232679level0_row33\" class=\"row_heading level0 row33\" >33</th>\n",
       "                        <td id=\"T_92803539_450f_11ec_9323_0c7a15232679row33_col0\" class=\"data row33 col0\" >PCA</td>\n",
       "                        <td id=\"T_92803539_450f_11ec_9323_0c7a15232679row33_col1\" class=\"data row33 col1\" >False</td>\n",
       "            </tr>\n",
       "            <tr>\n",
       "                        <th id=\"T_92803539_450f_11ec_9323_0c7a15232679level0_row34\" class=\"row_heading level0 row34\" >34</th>\n",
       "                        <td id=\"T_92803539_450f_11ec_9323_0c7a15232679row34_col0\" class=\"data row34 col0\" >PCA Method</td>\n",
       "                        <td id=\"T_92803539_450f_11ec_9323_0c7a15232679row34_col1\" class=\"data row34 col1\" >None</td>\n",
       "            </tr>\n",
       "            <tr>\n",
       "                        <th id=\"T_92803539_450f_11ec_9323_0c7a15232679level0_row35\" class=\"row_heading level0 row35\" >35</th>\n",
       "                        <td id=\"T_92803539_450f_11ec_9323_0c7a15232679row35_col0\" class=\"data row35 col0\" >PCA Components</td>\n",
       "                        <td id=\"T_92803539_450f_11ec_9323_0c7a15232679row35_col1\" class=\"data row35 col1\" >None</td>\n",
       "            </tr>\n",
       "            <tr>\n",
       "                        <th id=\"T_92803539_450f_11ec_9323_0c7a15232679level0_row36\" class=\"row_heading level0 row36\" >36</th>\n",
       "                        <td id=\"T_92803539_450f_11ec_9323_0c7a15232679row36_col0\" class=\"data row36 col0\" >Ignore Low Variance</td>\n",
       "                        <td id=\"T_92803539_450f_11ec_9323_0c7a15232679row36_col1\" class=\"data row36 col1\" >False</td>\n",
       "            </tr>\n",
       "            <tr>\n",
       "                        <th id=\"T_92803539_450f_11ec_9323_0c7a15232679level0_row37\" class=\"row_heading level0 row37\" >37</th>\n",
       "                        <td id=\"T_92803539_450f_11ec_9323_0c7a15232679row37_col0\" class=\"data row37 col0\" >Combine Rare Levels</td>\n",
       "                        <td id=\"T_92803539_450f_11ec_9323_0c7a15232679row37_col1\" class=\"data row37 col1\" >False</td>\n",
       "            </tr>\n",
       "            <tr>\n",
       "                        <th id=\"T_92803539_450f_11ec_9323_0c7a15232679level0_row38\" class=\"row_heading level0 row38\" >38</th>\n",
       "                        <td id=\"T_92803539_450f_11ec_9323_0c7a15232679row38_col0\" class=\"data row38 col0\" >Rare Level Threshold</td>\n",
       "                        <td id=\"T_92803539_450f_11ec_9323_0c7a15232679row38_col1\" class=\"data row38 col1\" >None</td>\n",
       "            </tr>\n",
       "            <tr>\n",
       "                        <th id=\"T_92803539_450f_11ec_9323_0c7a15232679level0_row39\" class=\"row_heading level0 row39\" >39</th>\n",
       "                        <td id=\"T_92803539_450f_11ec_9323_0c7a15232679row39_col0\" class=\"data row39 col0\" >Numeric Binning</td>\n",
       "                        <td id=\"T_92803539_450f_11ec_9323_0c7a15232679row39_col1\" class=\"data row39 col1\" >False</td>\n",
       "            </tr>\n",
       "            <tr>\n",
       "                        <th id=\"T_92803539_450f_11ec_9323_0c7a15232679level0_row40\" class=\"row_heading level0 row40\" >40</th>\n",
       "                        <td id=\"T_92803539_450f_11ec_9323_0c7a15232679row40_col0\" class=\"data row40 col0\" >Remove Outliers</td>\n",
       "                        <td id=\"T_92803539_450f_11ec_9323_0c7a15232679row40_col1\" class=\"data row40 col1\" >False</td>\n",
       "            </tr>\n",
       "            <tr>\n",
       "                        <th id=\"T_92803539_450f_11ec_9323_0c7a15232679level0_row41\" class=\"row_heading level0 row41\" >41</th>\n",
       "                        <td id=\"T_92803539_450f_11ec_9323_0c7a15232679row41_col0\" class=\"data row41 col0\" >Outliers Threshold</td>\n",
       "                        <td id=\"T_92803539_450f_11ec_9323_0c7a15232679row41_col1\" class=\"data row41 col1\" >None</td>\n",
       "            </tr>\n",
       "            <tr>\n",
       "                        <th id=\"T_92803539_450f_11ec_9323_0c7a15232679level0_row42\" class=\"row_heading level0 row42\" >42</th>\n",
       "                        <td id=\"T_92803539_450f_11ec_9323_0c7a15232679row42_col0\" class=\"data row42 col0\" >Remove Multicollinearity</td>\n",
       "                        <td id=\"T_92803539_450f_11ec_9323_0c7a15232679row42_col1\" class=\"data row42 col1\" >False</td>\n",
       "            </tr>\n",
       "            <tr>\n",
       "                        <th id=\"T_92803539_450f_11ec_9323_0c7a15232679level0_row43\" class=\"row_heading level0 row43\" >43</th>\n",
       "                        <td id=\"T_92803539_450f_11ec_9323_0c7a15232679row43_col0\" class=\"data row43 col0\" >Multicollinearity Threshold</td>\n",
       "                        <td id=\"T_92803539_450f_11ec_9323_0c7a15232679row43_col1\" class=\"data row43 col1\" >None</td>\n",
       "            </tr>\n",
       "            <tr>\n",
       "                        <th id=\"T_92803539_450f_11ec_9323_0c7a15232679level0_row44\" class=\"row_heading level0 row44\" >44</th>\n",
       "                        <td id=\"T_92803539_450f_11ec_9323_0c7a15232679row44_col0\" class=\"data row44 col0\" >Remove Perfect Collinearity</td>\n",
       "                        <td id=\"T_92803539_450f_11ec_9323_0c7a15232679row44_col1\" class=\"data row44 col1\" >True</td>\n",
       "            </tr>\n",
       "            <tr>\n",
       "                        <th id=\"T_92803539_450f_11ec_9323_0c7a15232679level0_row45\" class=\"row_heading level0 row45\" >45</th>\n",
       "                        <td id=\"T_92803539_450f_11ec_9323_0c7a15232679row45_col0\" class=\"data row45 col0\" >Clustering</td>\n",
       "                        <td id=\"T_92803539_450f_11ec_9323_0c7a15232679row45_col1\" class=\"data row45 col1\" >False</td>\n",
       "            </tr>\n",
       "            <tr>\n",
       "                        <th id=\"T_92803539_450f_11ec_9323_0c7a15232679level0_row46\" class=\"row_heading level0 row46\" >46</th>\n",
       "                        <td id=\"T_92803539_450f_11ec_9323_0c7a15232679row46_col0\" class=\"data row46 col0\" >Clustering Iteration</td>\n",
       "                        <td id=\"T_92803539_450f_11ec_9323_0c7a15232679row46_col1\" class=\"data row46 col1\" >None</td>\n",
       "            </tr>\n",
       "            <tr>\n",
       "                        <th id=\"T_92803539_450f_11ec_9323_0c7a15232679level0_row47\" class=\"row_heading level0 row47\" >47</th>\n",
       "                        <td id=\"T_92803539_450f_11ec_9323_0c7a15232679row47_col0\" class=\"data row47 col0\" >Polynomial Features</td>\n",
       "                        <td id=\"T_92803539_450f_11ec_9323_0c7a15232679row47_col1\" class=\"data row47 col1\" >False</td>\n",
       "            </tr>\n",
       "            <tr>\n",
       "                        <th id=\"T_92803539_450f_11ec_9323_0c7a15232679level0_row48\" class=\"row_heading level0 row48\" >48</th>\n",
       "                        <td id=\"T_92803539_450f_11ec_9323_0c7a15232679row48_col0\" class=\"data row48 col0\" >Polynomial Degree</td>\n",
       "                        <td id=\"T_92803539_450f_11ec_9323_0c7a15232679row48_col1\" class=\"data row48 col1\" >None</td>\n",
       "            </tr>\n",
       "            <tr>\n",
       "                        <th id=\"T_92803539_450f_11ec_9323_0c7a15232679level0_row49\" class=\"row_heading level0 row49\" >49</th>\n",
       "                        <td id=\"T_92803539_450f_11ec_9323_0c7a15232679row49_col0\" class=\"data row49 col0\" >Trignometry Features</td>\n",
       "                        <td id=\"T_92803539_450f_11ec_9323_0c7a15232679row49_col1\" class=\"data row49 col1\" >False</td>\n",
       "            </tr>\n",
       "            <tr>\n",
       "                        <th id=\"T_92803539_450f_11ec_9323_0c7a15232679level0_row50\" class=\"row_heading level0 row50\" >50</th>\n",
       "                        <td id=\"T_92803539_450f_11ec_9323_0c7a15232679row50_col0\" class=\"data row50 col0\" >Polynomial Threshold</td>\n",
       "                        <td id=\"T_92803539_450f_11ec_9323_0c7a15232679row50_col1\" class=\"data row50 col1\" >None</td>\n",
       "            </tr>\n",
       "            <tr>\n",
       "                        <th id=\"T_92803539_450f_11ec_9323_0c7a15232679level0_row51\" class=\"row_heading level0 row51\" >51</th>\n",
       "                        <td id=\"T_92803539_450f_11ec_9323_0c7a15232679row51_col0\" class=\"data row51 col0\" >Group Features</td>\n",
       "                        <td id=\"T_92803539_450f_11ec_9323_0c7a15232679row51_col1\" class=\"data row51 col1\" >False</td>\n",
       "            </tr>\n",
       "            <tr>\n",
       "                        <th id=\"T_92803539_450f_11ec_9323_0c7a15232679level0_row52\" class=\"row_heading level0 row52\" >52</th>\n",
       "                        <td id=\"T_92803539_450f_11ec_9323_0c7a15232679row52_col0\" class=\"data row52 col0\" >Feature Selection</td>\n",
       "                        <td id=\"T_92803539_450f_11ec_9323_0c7a15232679row52_col1\" class=\"data row52 col1\" >False</td>\n",
       "            </tr>\n",
       "            <tr>\n",
       "                        <th id=\"T_92803539_450f_11ec_9323_0c7a15232679level0_row53\" class=\"row_heading level0 row53\" >53</th>\n",
       "                        <td id=\"T_92803539_450f_11ec_9323_0c7a15232679row53_col0\" class=\"data row53 col0\" >Feature Selection Method</td>\n",
       "                        <td id=\"T_92803539_450f_11ec_9323_0c7a15232679row53_col1\" class=\"data row53 col1\" >classic</td>\n",
       "            </tr>\n",
       "            <tr>\n",
       "                        <th id=\"T_92803539_450f_11ec_9323_0c7a15232679level0_row54\" class=\"row_heading level0 row54\" >54</th>\n",
       "                        <td id=\"T_92803539_450f_11ec_9323_0c7a15232679row54_col0\" class=\"data row54 col0\" >Features Selection Threshold</td>\n",
       "                        <td id=\"T_92803539_450f_11ec_9323_0c7a15232679row54_col1\" class=\"data row54 col1\" >None</td>\n",
       "            </tr>\n",
       "            <tr>\n",
       "                        <th id=\"T_92803539_450f_11ec_9323_0c7a15232679level0_row55\" class=\"row_heading level0 row55\" >55</th>\n",
       "                        <td id=\"T_92803539_450f_11ec_9323_0c7a15232679row55_col0\" class=\"data row55 col0\" >Feature Interaction</td>\n",
       "                        <td id=\"T_92803539_450f_11ec_9323_0c7a15232679row55_col1\" class=\"data row55 col1\" >False</td>\n",
       "            </tr>\n",
       "            <tr>\n",
       "                        <th id=\"T_92803539_450f_11ec_9323_0c7a15232679level0_row56\" class=\"row_heading level0 row56\" >56</th>\n",
       "                        <td id=\"T_92803539_450f_11ec_9323_0c7a15232679row56_col0\" class=\"data row56 col0\" >Feature Ratio</td>\n",
       "                        <td id=\"T_92803539_450f_11ec_9323_0c7a15232679row56_col1\" class=\"data row56 col1\" >False</td>\n",
       "            </tr>\n",
       "            <tr>\n",
       "                        <th id=\"T_92803539_450f_11ec_9323_0c7a15232679level0_row57\" class=\"row_heading level0 row57\" >57</th>\n",
       "                        <td id=\"T_92803539_450f_11ec_9323_0c7a15232679row57_col0\" class=\"data row57 col0\" >Interaction Threshold</td>\n",
       "                        <td id=\"T_92803539_450f_11ec_9323_0c7a15232679row57_col1\" class=\"data row57 col1\" >None</td>\n",
       "            </tr>\n",
       "            <tr>\n",
       "                        <th id=\"T_92803539_450f_11ec_9323_0c7a15232679level0_row58\" class=\"row_heading level0 row58\" >58</th>\n",
       "                        <td id=\"T_92803539_450f_11ec_9323_0c7a15232679row58_col0\" class=\"data row58 col0\" >Fix Imbalance</td>\n",
       "                        <td id=\"T_92803539_450f_11ec_9323_0c7a15232679row58_col1\" class=\"data row58 col1\" >False</td>\n",
       "            </tr>\n",
       "            <tr>\n",
       "                        <th id=\"T_92803539_450f_11ec_9323_0c7a15232679level0_row59\" class=\"row_heading level0 row59\" >59</th>\n",
       "                        <td id=\"T_92803539_450f_11ec_9323_0c7a15232679row59_col0\" class=\"data row59 col0\" >Fix Imbalance Method</td>\n",
       "                        <td id=\"T_92803539_450f_11ec_9323_0c7a15232679row59_col1\" class=\"data row59 col1\" >SMOTE</td>\n",
       "            </tr>\n",
       "    </tbody></table>"
      ],
      "text/plain": [
       "<pandas.io.formats.style.Styler at 0x2337fa746a0>"
      ]
     },
     "metadata": {},
     "output_type": "display_data"
    }
   ],
   "source": [
    "clf = setup(data = df, target = 'Drug')"
   ]
  },
  {
   "cell_type": "code",
   "execution_count": 23,
   "metadata": {},
   "outputs": [
    {
     "data": {
      "text/html": [
       "<style  type=\"text/css\" >\n",
       "    #T_a04a47dc_450f_11ec_b727_0c7a15232679 th {\n",
       "          text-align: left;\n",
       "    }    #T_a04a47dc_450f_11ec_b727_0c7a15232679row0_col0 {\n",
       "            text-align:  left;\n",
       "            text-align:  left;\n",
       "        }    #T_a04a47dc_450f_11ec_b727_0c7a15232679row0_col1 {\n",
       "            text-align:  left;\n",
       "            text-align:  left;\n",
       "            background-color:  yellow;\n",
       "        }    #T_a04a47dc_450f_11ec_b727_0c7a15232679row0_col2 {\n",
       "            text-align:  left;\n",
       "            text-align:  left;\n",
       "            background-color:  yellow;\n",
       "        }    #T_a04a47dc_450f_11ec_b727_0c7a15232679row0_col3 {\n",
       "            text-align:  left;\n",
       "            text-align:  left;\n",
       "            background-color:  yellow;\n",
       "        }    #T_a04a47dc_450f_11ec_b727_0c7a15232679row0_col4 {\n",
       "            text-align:  left;\n",
       "            text-align:  left;\n",
       "            background-color:  yellow;\n",
       "        }    #T_a04a47dc_450f_11ec_b727_0c7a15232679row0_col5 {\n",
       "            text-align:  left;\n",
       "            text-align:  left;\n",
       "            background-color:  yellow;\n",
       "        }    #T_a04a47dc_450f_11ec_b727_0c7a15232679row0_col6 {\n",
       "            text-align:  left;\n",
       "            text-align:  left;\n",
       "            background-color:  yellow;\n",
       "        }    #T_a04a47dc_450f_11ec_b727_0c7a15232679row0_col7 {\n",
       "            text-align:  left;\n",
       "            text-align:  left;\n",
       "            background-color:  yellow;\n",
       "        }    #T_a04a47dc_450f_11ec_b727_0c7a15232679row0_col8 {\n",
       "            text-align:  left;\n",
       "            text-align:  left;\n",
       "            : ;\n",
       "            background-color:  lightgrey;\n",
       "        }    #T_a04a47dc_450f_11ec_b727_0c7a15232679row1_col0 {\n",
       "            text-align:  left;\n",
       "            text-align:  left;\n",
       "        }    #T_a04a47dc_450f_11ec_b727_0c7a15232679row1_col1 {\n",
       "            text-align:  left;\n",
       "            text-align:  left;\n",
       "            background-color:  yellow;\n",
       "        }    #T_a04a47dc_450f_11ec_b727_0c7a15232679row1_col2 {\n",
       "            text-align:  left;\n",
       "            text-align:  left;\n",
       "            background-color:  yellow;\n",
       "        }    #T_a04a47dc_450f_11ec_b727_0c7a15232679row1_col3 {\n",
       "            text-align:  left;\n",
       "            text-align:  left;\n",
       "            : ;\n",
       "        }    #T_a04a47dc_450f_11ec_b727_0c7a15232679row1_col4 {\n",
       "            text-align:  left;\n",
       "            text-align:  left;\n",
       "            : ;\n",
       "        }    #T_a04a47dc_450f_11ec_b727_0c7a15232679row1_col5 {\n",
       "            text-align:  left;\n",
       "            text-align:  left;\n",
       "            : ;\n",
       "        }    #T_a04a47dc_450f_11ec_b727_0c7a15232679row1_col6 {\n",
       "            text-align:  left;\n",
       "            text-align:  left;\n",
       "            : ;\n",
       "        }    #T_a04a47dc_450f_11ec_b727_0c7a15232679row1_col7 {\n",
       "            text-align:  left;\n",
       "            text-align:  left;\n",
       "            : ;\n",
       "        }    #T_a04a47dc_450f_11ec_b727_0c7a15232679row1_col8 {\n",
       "            text-align:  left;\n",
       "            text-align:  left;\n",
       "            : ;\n",
       "            background-color:  lightgrey;\n",
       "        }    #T_a04a47dc_450f_11ec_b727_0c7a15232679row2_col0 {\n",
       "            text-align:  left;\n",
       "            text-align:  left;\n",
       "        }    #T_a04a47dc_450f_11ec_b727_0c7a15232679row2_col1 {\n",
       "            text-align:  left;\n",
       "            text-align:  left;\n",
       "            background-color:  yellow;\n",
       "        }    #T_a04a47dc_450f_11ec_b727_0c7a15232679row2_col2 {\n",
       "            text-align:  left;\n",
       "            text-align:  left;\n",
       "            : ;\n",
       "        }    #T_a04a47dc_450f_11ec_b727_0c7a15232679row2_col3 {\n",
       "            text-align:  left;\n",
       "            text-align:  left;\n",
       "            background-color:  yellow;\n",
       "        }    #T_a04a47dc_450f_11ec_b727_0c7a15232679row2_col4 {\n",
       "            text-align:  left;\n",
       "            text-align:  left;\n",
       "            background-color:  yellow;\n",
       "        }    #T_a04a47dc_450f_11ec_b727_0c7a15232679row2_col5 {\n",
       "            text-align:  left;\n",
       "            text-align:  left;\n",
       "            background-color:  yellow;\n",
       "        }    #T_a04a47dc_450f_11ec_b727_0c7a15232679row2_col6 {\n",
       "            text-align:  left;\n",
       "            text-align:  left;\n",
       "            background-color:  yellow;\n",
       "        }    #T_a04a47dc_450f_11ec_b727_0c7a15232679row2_col7 {\n",
       "            text-align:  left;\n",
       "            text-align:  left;\n",
       "            background-color:  yellow;\n",
       "        }    #T_a04a47dc_450f_11ec_b727_0c7a15232679row2_col8 {\n",
       "            text-align:  left;\n",
       "            text-align:  left;\n",
       "            : ;\n",
       "            background-color:  lightgrey;\n",
       "        }    #T_a04a47dc_450f_11ec_b727_0c7a15232679row3_col0 {\n",
       "            text-align:  left;\n",
       "            text-align:  left;\n",
       "        }    #T_a04a47dc_450f_11ec_b727_0c7a15232679row3_col1 {\n",
       "            text-align:  left;\n",
       "            text-align:  left;\n",
       "            : ;\n",
       "        }    #T_a04a47dc_450f_11ec_b727_0c7a15232679row3_col2 {\n",
       "            text-align:  left;\n",
       "            text-align:  left;\n",
       "            : ;\n",
       "        }    #T_a04a47dc_450f_11ec_b727_0c7a15232679row3_col3 {\n",
       "            text-align:  left;\n",
       "            text-align:  left;\n",
       "            : ;\n",
       "        }    #T_a04a47dc_450f_11ec_b727_0c7a15232679row3_col4 {\n",
       "            text-align:  left;\n",
       "            text-align:  left;\n",
       "            : ;\n",
       "        }    #T_a04a47dc_450f_11ec_b727_0c7a15232679row3_col5 {\n",
       "            text-align:  left;\n",
       "            text-align:  left;\n",
       "            : ;\n",
       "        }    #T_a04a47dc_450f_11ec_b727_0c7a15232679row3_col6 {\n",
       "            text-align:  left;\n",
       "            text-align:  left;\n",
       "            : ;\n",
       "        }    #T_a04a47dc_450f_11ec_b727_0c7a15232679row3_col7 {\n",
       "            text-align:  left;\n",
       "            text-align:  left;\n",
       "            : ;\n",
       "        }    #T_a04a47dc_450f_11ec_b727_0c7a15232679row3_col8 {\n",
       "            text-align:  left;\n",
       "            text-align:  left;\n",
       "            : ;\n",
       "            background-color:  lightgrey;\n",
       "        }    #T_a04a47dc_450f_11ec_b727_0c7a15232679row4_col0 {\n",
       "            text-align:  left;\n",
       "            text-align:  left;\n",
       "        }    #T_a04a47dc_450f_11ec_b727_0c7a15232679row4_col1 {\n",
       "            text-align:  left;\n",
       "            text-align:  left;\n",
       "            : ;\n",
       "        }    #T_a04a47dc_450f_11ec_b727_0c7a15232679row4_col2 {\n",
       "            text-align:  left;\n",
       "            text-align:  left;\n",
       "            : ;\n",
       "        }    #T_a04a47dc_450f_11ec_b727_0c7a15232679row4_col3 {\n",
       "            text-align:  left;\n",
       "            text-align:  left;\n",
       "            : ;\n",
       "        }    #T_a04a47dc_450f_11ec_b727_0c7a15232679row4_col4 {\n",
       "            text-align:  left;\n",
       "            text-align:  left;\n",
       "            : ;\n",
       "        }    #T_a04a47dc_450f_11ec_b727_0c7a15232679row4_col5 {\n",
       "            text-align:  left;\n",
       "            text-align:  left;\n",
       "            : ;\n",
       "        }    #T_a04a47dc_450f_11ec_b727_0c7a15232679row4_col6 {\n",
       "            text-align:  left;\n",
       "            text-align:  left;\n",
       "            : ;\n",
       "        }    #T_a04a47dc_450f_11ec_b727_0c7a15232679row4_col7 {\n",
       "            text-align:  left;\n",
       "            text-align:  left;\n",
       "            : ;\n",
       "        }    #T_a04a47dc_450f_11ec_b727_0c7a15232679row4_col8 {\n",
       "            text-align:  left;\n",
       "            text-align:  left;\n",
       "            : ;\n",
       "            background-color:  lightgrey;\n",
       "        }    #T_a04a47dc_450f_11ec_b727_0c7a15232679row5_col0 {\n",
       "            text-align:  left;\n",
       "            text-align:  left;\n",
       "        }    #T_a04a47dc_450f_11ec_b727_0c7a15232679row5_col1 {\n",
       "            text-align:  left;\n",
       "            text-align:  left;\n",
       "            background-color:  yellow;\n",
       "        }    #T_a04a47dc_450f_11ec_b727_0c7a15232679row5_col2 {\n",
       "            text-align:  left;\n",
       "            text-align:  left;\n",
       "            : ;\n",
       "        }    #T_a04a47dc_450f_11ec_b727_0c7a15232679row5_col3 {\n",
       "            text-align:  left;\n",
       "            text-align:  left;\n",
       "            background-color:  yellow;\n",
       "        }    #T_a04a47dc_450f_11ec_b727_0c7a15232679row5_col4 {\n",
       "            text-align:  left;\n",
       "            text-align:  left;\n",
       "            background-color:  yellow;\n",
       "        }    #T_a04a47dc_450f_11ec_b727_0c7a15232679row5_col5 {\n",
       "            text-align:  left;\n",
       "            text-align:  left;\n",
       "            background-color:  yellow;\n",
       "        }    #T_a04a47dc_450f_11ec_b727_0c7a15232679row5_col6 {\n",
       "            text-align:  left;\n",
       "            text-align:  left;\n",
       "            background-color:  yellow;\n",
       "        }    #T_a04a47dc_450f_11ec_b727_0c7a15232679row5_col7 {\n",
       "            text-align:  left;\n",
       "            text-align:  left;\n",
       "            background-color:  yellow;\n",
       "        }    #T_a04a47dc_450f_11ec_b727_0c7a15232679row5_col8 {\n",
       "            text-align:  left;\n",
       "            text-align:  left;\n",
       "            : ;\n",
       "            background-color:  lightgrey;\n",
       "        }    #T_a04a47dc_450f_11ec_b727_0c7a15232679row6_col0 {\n",
       "            text-align:  left;\n",
       "            text-align:  left;\n",
       "        }    #T_a04a47dc_450f_11ec_b727_0c7a15232679row6_col1 {\n",
       "            text-align:  left;\n",
       "            text-align:  left;\n",
       "            : ;\n",
       "        }    #T_a04a47dc_450f_11ec_b727_0c7a15232679row6_col2 {\n",
       "            text-align:  left;\n",
       "            text-align:  left;\n",
       "            : ;\n",
       "        }    #T_a04a47dc_450f_11ec_b727_0c7a15232679row6_col3 {\n",
       "            text-align:  left;\n",
       "            text-align:  left;\n",
       "            : ;\n",
       "        }    #T_a04a47dc_450f_11ec_b727_0c7a15232679row6_col4 {\n",
       "            text-align:  left;\n",
       "            text-align:  left;\n",
       "            : ;\n",
       "        }    #T_a04a47dc_450f_11ec_b727_0c7a15232679row6_col5 {\n",
       "            text-align:  left;\n",
       "            text-align:  left;\n",
       "            : ;\n",
       "        }    #T_a04a47dc_450f_11ec_b727_0c7a15232679row6_col6 {\n",
       "            text-align:  left;\n",
       "            text-align:  left;\n",
       "            : ;\n",
       "        }    #T_a04a47dc_450f_11ec_b727_0c7a15232679row6_col7 {\n",
       "            text-align:  left;\n",
       "            text-align:  left;\n",
       "            : ;\n",
       "        }    #T_a04a47dc_450f_11ec_b727_0c7a15232679row6_col8 {\n",
       "            text-align:  left;\n",
       "            text-align:  left;\n",
       "            : ;\n",
       "            background-color:  lightgrey;\n",
       "        }    #T_a04a47dc_450f_11ec_b727_0c7a15232679row7_col0 {\n",
       "            text-align:  left;\n",
       "            text-align:  left;\n",
       "        }    #T_a04a47dc_450f_11ec_b727_0c7a15232679row7_col1 {\n",
       "            text-align:  left;\n",
       "            text-align:  left;\n",
       "            : ;\n",
       "        }    #T_a04a47dc_450f_11ec_b727_0c7a15232679row7_col2 {\n",
       "            text-align:  left;\n",
       "            text-align:  left;\n",
       "            : ;\n",
       "        }    #T_a04a47dc_450f_11ec_b727_0c7a15232679row7_col3 {\n",
       "            text-align:  left;\n",
       "            text-align:  left;\n",
       "            : ;\n",
       "        }    #T_a04a47dc_450f_11ec_b727_0c7a15232679row7_col4 {\n",
       "            text-align:  left;\n",
       "            text-align:  left;\n",
       "            : ;\n",
       "        }    #T_a04a47dc_450f_11ec_b727_0c7a15232679row7_col5 {\n",
       "            text-align:  left;\n",
       "            text-align:  left;\n",
       "            : ;\n",
       "        }    #T_a04a47dc_450f_11ec_b727_0c7a15232679row7_col6 {\n",
       "            text-align:  left;\n",
       "            text-align:  left;\n",
       "            : ;\n",
       "        }    #T_a04a47dc_450f_11ec_b727_0c7a15232679row7_col7 {\n",
       "            text-align:  left;\n",
       "            text-align:  left;\n",
       "            : ;\n",
       "        }    #T_a04a47dc_450f_11ec_b727_0c7a15232679row7_col8 {\n",
       "            text-align:  left;\n",
       "            text-align:  left;\n",
       "            : ;\n",
       "            background-color:  lightgrey;\n",
       "        }    #T_a04a47dc_450f_11ec_b727_0c7a15232679row8_col0 {\n",
       "            text-align:  left;\n",
       "            text-align:  left;\n",
       "        }    #T_a04a47dc_450f_11ec_b727_0c7a15232679row8_col1 {\n",
       "            text-align:  left;\n",
       "            text-align:  left;\n",
       "            : ;\n",
       "        }    #T_a04a47dc_450f_11ec_b727_0c7a15232679row8_col2 {\n",
       "            text-align:  left;\n",
       "            text-align:  left;\n",
       "            : ;\n",
       "        }    #T_a04a47dc_450f_11ec_b727_0c7a15232679row8_col3 {\n",
       "            text-align:  left;\n",
       "            text-align:  left;\n",
       "            : ;\n",
       "        }    #T_a04a47dc_450f_11ec_b727_0c7a15232679row8_col4 {\n",
       "            text-align:  left;\n",
       "            text-align:  left;\n",
       "            : ;\n",
       "        }    #T_a04a47dc_450f_11ec_b727_0c7a15232679row8_col5 {\n",
       "            text-align:  left;\n",
       "            text-align:  left;\n",
       "            : ;\n",
       "        }    #T_a04a47dc_450f_11ec_b727_0c7a15232679row8_col6 {\n",
       "            text-align:  left;\n",
       "            text-align:  left;\n",
       "            : ;\n",
       "        }    #T_a04a47dc_450f_11ec_b727_0c7a15232679row8_col7 {\n",
       "            text-align:  left;\n",
       "            text-align:  left;\n",
       "            : ;\n",
       "        }    #T_a04a47dc_450f_11ec_b727_0c7a15232679row8_col8 {\n",
       "            text-align:  left;\n",
       "            text-align:  left;\n",
       "            : ;\n",
       "            background-color:  lightgrey;\n",
       "        }    #T_a04a47dc_450f_11ec_b727_0c7a15232679row9_col0 {\n",
       "            text-align:  left;\n",
       "            text-align:  left;\n",
       "        }    #T_a04a47dc_450f_11ec_b727_0c7a15232679row9_col1 {\n",
       "            text-align:  left;\n",
       "            text-align:  left;\n",
       "            : ;\n",
       "        }    #T_a04a47dc_450f_11ec_b727_0c7a15232679row9_col2 {\n",
       "            text-align:  left;\n",
       "            text-align:  left;\n",
       "            : ;\n",
       "        }    #T_a04a47dc_450f_11ec_b727_0c7a15232679row9_col3 {\n",
       "            text-align:  left;\n",
       "            text-align:  left;\n",
       "            : ;\n",
       "        }    #T_a04a47dc_450f_11ec_b727_0c7a15232679row9_col4 {\n",
       "            text-align:  left;\n",
       "            text-align:  left;\n",
       "            : ;\n",
       "        }    #T_a04a47dc_450f_11ec_b727_0c7a15232679row9_col5 {\n",
       "            text-align:  left;\n",
       "            text-align:  left;\n",
       "            : ;\n",
       "        }    #T_a04a47dc_450f_11ec_b727_0c7a15232679row9_col6 {\n",
       "            text-align:  left;\n",
       "            text-align:  left;\n",
       "            : ;\n",
       "        }    #T_a04a47dc_450f_11ec_b727_0c7a15232679row9_col7 {\n",
       "            text-align:  left;\n",
       "            text-align:  left;\n",
       "            : ;\n",
       "        }    #T_a04a47dc_450f_11ec_b727_0c7a15232679row9_col8 {\n",
       "            text-align:  left;\n",
       "            text-align:  left;\n",
       "            : ;\n",
       "            background-color:  lightgrey;\n",
       "        }    #T_a04a47dc_450f_11ec_b727_0c7a15232679row10_col0 {\n",
       "            text-align:  left;\n",
       "            text-align:  left;\n",
       "        }    #T_a04a47dc_450f_11ec_b727_0c7a15232679row10_col1 {\n",
       "            text-align:  left;\n",
       "            text-align:  left;\n",
       "            : ;\n",
       "        }    #T_a04a47dc_450f_11ec_b727_0c7a15232679row10_col2 {\n",
       "            text-align:  left;\n",
       "            text-align:  left;\n",
       "            : ;\n",
       "        }    #T_a04a47dc_450f_11ec_b727_0c7a15232679row10_col3 {\n",
       "            text-align:  left;\n",
       "            text-align:  left;\n",
       "            : ;\n",
       "        }    #T_a04a47dc_450f_11ec_b727_0c7a15232679row10_col4 {\n",
       "            text-align:  left;\n",
       "            text-align:  left;\n",
       "            : ;\n",
       "        }    #T_a04a47dc_450f_11ec_b727_0c7a15232679row10_col5 {\n",
       "            text-align:  left;\n",
       "            text-align:  left;\n",
       "            : ;\n",
       "        }    #T_a04a47dc_450f_11ec_b727_0c7a15232679row10_col6 {\n",
       "            text-align:  left;\n",
       "            text-align:  left;\n",
       "            : ;\n",
       "        }    #T_a04a47dc_450f_11ec_b727_0c7a15232679row10_col7 {\n",
       "            text-align:  left;\n",
       "            text-align:  left;\n",
       "            : ;\n",
       "        }    #T_a04a47dc_450f_11ec_b727_0c7a15232679row10_col8 {\n",
       "            text-align:  left;\n",
       "            text-align:  left;\n",
       "            : ;\n",
       "            background-color:  lightgrey;\n",
       "        }    #T_a04a47dc_450f_11ec_b727_0c7a15232679row11_col0 {\n",
       "            text-align:  left;\n",
       "            text-align:  left;\n",
       "        }    #T_a04a47dc_450f_11ec_b727_0c7a15232679row11_col1 {\n",
       "            text-align:  left;\n",
       "            text-align:  left;\n",
       "            : ;\n",
       "        }    #T_a04a47dc_450f_11ec_b727_0c7a15232679row11_col2 {\n",
       "            text-align:  left;\n",
       "            text-align:  left;\n",
       "            : ;\n",
       "        }    #T_a04a47dc_450f_11ec_b727_0c7a15232679row11_col3 {\n",
       "            text-align:  left;\n",
       "            text-align:  left;\n",
       "            : ;\n",
       "        }    #T_a04a47dc_450f_11ec_b727_0c7a15232679row11_col4 {\n",
       "            text-align:  left;\n",
       "            text-align:  left;\n",
       "            : ;\n",
       "        }    #T_a04a47dc_450f_11ec_b727_0c7a15232679row11_col5 {\n",
       "            text-align:  left;\n",
       "            text-align:  left;\n",
       "            : ;\n",
       "        }    #T_a04a47dc_450f_11ec_b727_0c7a15232679row11_col6 {\n",
       "            text-align:  left;\n",
       "            text-align:  left;\n",
       "            : ;\n",
       "        }    #T_a04a47dc_450f_11ec_b727_0c7a15232679row11_col7 {\n",
       "            text-align:  left;\n",
       "            text-align:  left;\n",
       "            : ;\n",
       "        }    #T_a04a47dc_450f_11ec_b727_0c7a15232679row11_col8 {\n",
       "            text-align:  left;\n",
       "            text-align:  left;\n",
       "            : ;\n",
       "            background-color:  lightgrey;\n",
       "        }    #T_a04a47dc_450f_11ec_b727_0c7a15232679row12_col0 {\n",
       "            text-align:  left;\n",
       "            text-align:  left;\n",
       "        }    #T_a04a47dc_450f_11ec_b727_0c7a15232679row12_col1 {\n",
       "            text-align:  left;\n",
       "            text-align:  left;\n",
       "            : ;\n",
       "        }    #T_a04a47dc_450f_11ec_b727_0c7a15232679row12_col2 {\n",
       "            text-align:  left;\n",
       "            text-align:  left;\n",
       "            : ;\n",
       "        }    #T_a04a47dc_450f_11ec_b727_0c7a15232679row12_col3 {\n",
       "            text-align:  left;\n",
       "            text-align:  left;\n",
       "            : ;\n",
       "        }    #T_a04a47dc_450f_11ec_b727_0c7a15232679row12_col4 {\n",
       "            text-align:  left;\n",
       "            text-align:  left;\n",
       "            : ;\n",
       "        }    #T_a04a47dc_450f_11ec_b727_0c7a15232679row12_col5 {\n",
       "            text-align:  left;\n",
       "            text-align:  left;\n",
       "            : ;\n",
       "        }    #T_a04a47dc_450f_11ec_b727_0c7a15232679row12_col6 {\n",
       "            text-align:  left;\n",
       "            text-align:  left;\n",
       "            : ;\n",
       "        }    #T_a04a47dc_450f_11ec_b727_0c7a15232679row12_col7 {\n",
       "            text-align:  left;\n",
       "            text-align:  left;\n",
       "            : ;\n",
       "        }    #T_a04a47dc_450f_11ec_b727_0c7a15232679row12_col8 {\n",
       "            text-align:  left;\n",
       "            text-align:  left;\n",
       "            background-color:  yellow;\n",
       "            background-color:  lightgrey;\n",
       "        }    #T_a04a47dc_450f_11ec_b727_0c7a15232679row13_col0 {\n",
       "            text-align:  left;\n",
       "            text-align:  left;\n",
       "        }    #T_a04a47dc_450f_11ec_b727_0c7a15232679row13_col1 {\n",
       "            text-align:  left;\n",
       "            text-align:  left;\n",
       "            : ;\n",
       "        }    #T_a04a47dc_450f_11ec_b727_0c7a15232679row13_col2 {\n",
       "            text-align:  left;\n",
       "            text-align:  left;\n",
       "            : ;\n",
       "        }    #T_a04a47dc_450f_11ec_b727_0c7a15232679row13_col3 {\n",
       "            text-align:  left;\n",
       "            text-align:  left;\n",
       "            : ;\n",
       "        }    #T_a04a47dc_450f_11ec_b727_0c7a15232679row13_col4 {\n",
       "            text-align:  left;\n",
       "            text-align:  left;\n",
       "            : ;\n",
       "        }    #T_a04a47dc_450f_11ec_b727_0c7a15232679row13_col5 {\n",
       "            text-align:  left;\n",
       "            text-align:  left;\n",
       "            : ;\n",
       "        }    #T_a04a47dc_450f_11ec_b727_0c7a15232679row13_col6 {\n",
       "            text-align:  left;\n",
       "            text-align:  left;\n",
       "            : ;\n",
       "        }    #T_a04a47dc_450f_11ec_b727_0c7a15232679row13_col7 {\n",
       "            text-align:  left;\n",
       "            text-align:  left;\n",
       "            : ;\n",
       "        }    #T_a04a47dc_450f_11ec_b727_0c7a15232679row13_col8 {\n",
       "            text-align:  left;\n",
       "            text-align:  left;\n",
       "            : ;\n",
       "            background-color:  lightgrey;\n",
       "        }</style><table id=\"T_a04a47dc_450f_11ec_b727_0c7a15232679\" ><thead>    <tr>        <th class=\"blank level0\" ></th>        <th class=\"col_heading level0 col0\" >Model</th>        <th class=\"col_heading level0 col1\" >Accuracy</th>        <th class=\"col_heading level0 col2\" >AUC</th>        <th class=\"col_heading level0 col3\" >Recall</th>        <th class=\"col_heading level0 col4\" >Prec.</th>        <th class=\"col_heading level0 col5\" >F1</th>        <th class=\"col_heading level0 col6\" >Kappa</th>        <th class=\"col_heading level0 col7\" >MCC</th>        <th class=\"col_heading level0 col8\" >TT (Sec)</th>    </tr></thead><tbody>\n",
       "                <tr>\n",
       "                        <th id=\"T_a04a47dc_450f_11ec_b727_0c7a15232679level0_row0\" class=\"row_heading level0 row0\" >rf</th>\n",
       "                        <td id=\"T_a04a47dc_450f_11ec_b727_0c7a15232679row0_col0\" class=\"data row0 col0\" >Random Forest Classifier</td>\n",
       "                        <td id=\"T_a04a47dc_450f_11ec_b727_0c7a15232679row0_col1\" class=\"data row0 col1\" >0.9929</td>\n",
       "                        <td id=\"T_a04a47dc_450f_11ec_b727_0c7a15232679row0_col2\" class=\"data row0 col2\" >1.0000</td>\n",
       "                        <td id=\"T_a04a47dc_450f_11ec_b727_0c7a15232679row0_col3\" class=\"data row0 col3\" >0.9900</td>\n",
       "                        <td id=\"T_a04a47dc_450f_11ec_b727_0c7a15232679row0_col4\" class=\"data row0 col4\" >0.9964</td>\n",
       "                        <td id=\"T_a04a47dc_450f_11ec_b727_0c7a15232679row0_col5\" class=\"data row0 col5\" >0.9929</td>\n",
       "                        <td id=\"T_a04a47dc_450f_11ec_b727_0c7a15232679row0_col6\" class=\"data row0 col6\" >0.9895</td>\n",
       "                        <td id=\"T_a04a47dc_450f_11ec_b727_0c7a15232679row0_col7\" class=\"data row0 col7\" >0.9902</td>\n",
       "                        <td id=\"T_a04a47dc_450f_11ec_b727_0c7a15232679row0_col8\" class=\"data row0 col8\" >0.0710</td>\n",
       "            </tr>\n",
       "            <tr>\n",
       "                        <th id=\"T_a04a47dc_450f_11ec_b727_0c7a15232679level0_row1\" class=\"row_heading level0 row1\" >lightgbm</th>\n",
       "                        <td id=\"T_a04a47dc_450f_11ec_b727_0c7a15232679row1_col0\" class=\"data row1 col0\" >Light Gradient Boosting Machine</td>\n",
       "                        <td id=\"T_a04a47dc_450f_11ec_b727_0c7a15232679row1_col1\" class=\"data row1 col1\" >0.9929</td>\n",
       "                        <td id=\"T_a04a47dc_450f_11ec_b727_0c7a15232679row1_col2\" class=\"data row1 col2\" >1.0000</td>\n",
       "                        <td id=\"T_a04a47dc_450f_11ec_b727_0c7a15232679row1_col3\" class=\"data row1 col3\" >0.9800</td>\n",
       "                        <td id=\"T_a04a47dc_450f_11ec_b727_0c7a15232679row1_col4\" class=\"data row1 col4\" >0.9893</td>\n",
       "                        <td id=\"T_a04a47dc_450f_11ec_b727_0c7a15232679row1_col5\" class=\"data row1 col5\" >0.9905</td>\n",
       "                        <td id=\"T_a04a47dc_450f_11ec_b727_0c7a15232679row1_col6\" class=\"data row1 col6\" >0.9894</td>\n",
       "                        <td id=\"T_a04a47dc_450f_11ec_b727_0c7a15232679row1_col7\" class=\"data row1 col7\" >0.9901</td>\n",
       "                        <td id=\"T_a04a47dc_450f_11ec_b727_0c7a15232679row1_col8\" class=\"data row1 col8\" >0.2000</td>\n",
       "            </tr>\n",
       "            <tr>\n",
       "                        <th id=\"T_a04a47dc_450f_11ec_b727_0c7a15232679level0_row2\" class=\"row_heading level0 row2\" >xgboost</th>\n",
       "                        <td id=\"T_a04a47dc_450f_11ec_b727_0c7a15232679row2_col0\" class=\"data row2 col0\" >Extreme Gradient Boosting</td>\n",
       "                        <td id=\"T_a04a47dc_450f_11ec_b727_0c7a15232679row2_col1\" class=\"data row2 col1\" >0.9929</td>\n",
       "                        <td id=\"T_a04a47dc_450f_11ec_b727_0c7a15232679row2_col2\" class=\"data row2 col2\" >0.9994</td>\n",
       "                        <td id=\"T_a04a47dc_450f_11ec_b727_0c7a15232679row2_col3\" class=\"data row2 col3\" >0.9900</td>\n",
       "                        <td id=\"T_a04a47dc_450f_11ec_b727_0c7a15232679row2_col4\" class=\"data row2 col4\" >0.9964</td>\n",
       "                        <td id=\"T_a04a47dc_450f_11ec_b727_0c7a15232679row2_col5\" class=\"data row2 col5\" >0.9929</td>\n",
       "                        <td id=\"T_a04a47dc_450f_11ec_b727_0c7a15232679row2_col6\" class=\"data row2 col6\" >0.9895</td>\n",
       "                        <td id=\"T_a04a47dc_450f_11ec_b727_0c7a15232679row2_col7\" class=\"data row2 col7\" >0.9902</td>\n",
       "                        <td id=\"T_a04a47dc_450f_11ec_b727_0c7a15232679row2_col8\" class=\"data row2 col8\" >0.0930</td>\n",
       "            </tr>\n",
       "            <tr>\n",
       "                        <th id=\"T_a04a47dc_450f_11ec_b727_0c7a15232679level0_row3\" class=\"row_heading level0 row3\" >lr</th>\n",
       "                        <td id=\"T_a04a47dc_450f_11ec_b727_0c7a15232679row3_col0\" class=\"data row3 col0\" >Logistic Regression</td>\n",
       "                        <td id=\"T_a04a47dc_450f_11ec_b727_0c7a15232679row3_col1\" class=\"data row3 col1\" >0.9786</td>\n",
       "                        <td id=\"T_a04a47dc_450f_11ec_b727_0c7a15232679row3_col2\" class=\"data row3 col2\" >0.9983</td>\n",
       "                        <td id=\"T_a04a47dc_450f_11ec_b727_0c7a15232679row3_col3\" class=\"data row3 col3\" >0.9805</td>\n",
       "                        <td id=\"T_a04a47dc_450f_11ec_b727_0c7a15232679row3_col4\" class=\"data row3 col4\" >0.9857</td>\n",
       "                        <td id=\"T_a04a47dc_450f_11ec_b727_0c7a15232679row3_col5\" class=\"data row3 col5\" >0.9800</td>\n",
       "                        <td id=\"T_a04a47dc_450f_11ec_b727_0c7a15232679row3_col6\" class=\"data row3 col6\" >0.9690</td>\n",
       "                        <td id=\"T_a04a47dc_450f_11ec_b727_0c7a15232679row3_col7\" class=\"data row3 col7\" >0.9703</td>\n",
       "                        <td id=\"T_a04a47dc_450f_11ec_b727_0c7a15232679row3_col8\" class=\"data row3 col8\" >0.8660</td>\n",
       "            </tr>\n",
       "            <tr>\n",
       "                        <th id=\"T_a04a47dc_450f_11ec_b727_0c7a15232679level0_row4\" class=\"row_heading level0 row4\" >gbc</th>\n",
       "                        <td id=\"T_a04a47dc_450f_11ec_b727_0c7a15232679row4_col0\" class=\"data row4 col0\" >Gradient Boosting Classifier</td>\n",
       "                        <td id=\"T_a04a47dc_450f_11ec_b727_0c7a15232679row4_col1\" class=\"data row4 col1\" >0.9857</td>\n",
       "                        <td id=\"T_a04a47dc_450f_11ec_b727_0c7a15232679row4_col2\" class=\"data row4 col2\" >0.9982</td>\n",
       "                        <td id=\"T_a04a47dc_450f_11ec_b727_0c7a15232679row4_col3\" class=\"data row4 col3\" >0.9800</td>\n",
       "                        <td id=\"T_a04a47dc_450f_11ec_b727_0c7a15232679row4_col4\" class=\"data row4 col4\" >0.9911</td>\n",
       "                        <td id=\"T_a04a47dc_450f_11ec_b727_0c7a15232679row4_col5\" class=\"data row4 col5\" >0.9850</td>\n",
       "                        <td id=\"T_a04a47dc_450f_11ec_b727_0c7a15232679row4_col6\" class=\"data row4 col6\" >0.9788</td>\n",
       "                        <td id=\"T_a04a47dc_450f_11ec_b727_0c7a15232679row4_col7\" class=\"data row4 col7\" >0.9802</td>\n",
       "                        <td id=\"T_a04a47dc_450f_11ec_b727_0c7a15232679row4_col8\" class=\"data row4 col8\" >0.1000</td>\n",
       "            </tr>\n",
       "            <tr>\n",
       "                        <th id=\"T_a04a47dc_450f_11ec_b727_0c7a15232679level0_row5\" class=\"row_heading level0 row5\" >dt</th>\n",
       "                        <td id=\"T_a04a47dc_450f_11ec_b727_0c7a15232679row5_col0\" class=\"data row5 col0\" >Decision Tree Classifier</td>\n",
       "                        <td id=\"T_a04a47dc_450f_11ec_b727_0c7a15232679row5_col1\" class=\"data row5 col1\" >0.9929</td>\n",
       "                        <td id=\"T_a04a47dc_450f_11ec_b727_0c7a15232679row5_col2\" class=\"data row5 col2\" >0.9962</td>\n",
       "                        <td id=\"T_a04a47dc_450f_11ec_b727_0c7a15232679row5_col3\" class=\"data row5 col3\" >0.9900</td>\n",
       "                        <td id=\"T_a04a47dc_450f_11ec_b727_0c7a15232679row5_col4\" class=\"data row5 col4\" >0.9964</td>\n",
       "                        <td id=\"T_a04a47dc_450f_11ec_b727_0c7a15232679row5_col5\" class=\"data row5 col5\" >0.9929</td>\n",
       "                        <td id=\"T_a04a47dc_450f_11ec_b727_0c7a15232679row5_col6\" class=\"data row5 col6\" >0.9895</td>\n",
       "                        <td id=\"T_a04a47dc_450f_11ec_b727_0c7a15232679row5_col7\" class=\"data row5 col7\" >0.9902</td>\n",
       "                        <td id=\"T_a04a47dc_450f_11ec_b727_0c7a15232679row5_col8\" class=\"data row5 col8\" >0.0100</td>\n",
       "            </tr>\n",
       "            <tr>\n",
       "                        <th id=\"T_a04a47dc_450f_11ec_b727_0c7a15232679level0_row6\" class=\"row_heading level0 row6\" >et</th>\n",
       "                        <td id=\"T_a04a47dc_450f_11ec_b727_0c7a15232679row6_col0\" class=\"data row6 col0\" >Extra Trees Classifier</td>\n",
       "                        <td id=\"T_a04a47dc_450f_11ec_b727_0c7a15232679row6_col1\" class=\"data row6 col1\" >0.9137</td>\n",
       "                        <td id=\"T_a04a47dc_450f_11ec_b727_0c7a15232679row6_col2\" class=\"data row6 col2\" >0.9898</td>\n",
       "                        <td id=\"T_a04a47dc_450f_11ec_b727_0c7a15232679row6_col3\" class=\"data row6 col3\" >0.9190</td>\n",
       "                        <td id=\"T_a04a47dc_450f_11ec_b727_0c7a15232679row6_col4\" class=\"data row6 col4\" >0.9251</td>\n",
       "                        <td id=\"T_a04a47dc_450f_11ec_b727_0c7a15232679row6_col5\" class=\"data row6 col5\" >0.9131</td>\n",
       "                        <td id=\"T_a04a47dc_450f_11ec_b727_0c7a15232679row6_col6\" class=\"data row6 col6\" >0.8728</td>\n",
       "                        <td id=\"T_a04a47dc_450f_11ec_b727_0c7a15232679row6_col7\" class=\"data row6 col7\" >0.8787</td>\n",
       "                        <td id=\"T_a04a47dc_450f_11ec_b727_0c7a15232679row6_col8\" class=\"data row6 col8\" >0.0630</td>\n",
       "            </tr>\n",
       "            <tr>\n",
       "                        <th id=\"T_a04a47dc_450f_11ec_b727_0c7a15232679level0_row7\" class=\"row_heading level0 row7\" >lda</th>\n",
       "                        <td id=\"T_a04a47dc_450f_11ec_b727_0c7a15232679row7_col0\" class=\"data row7 col0\" >Linear Discriminant Analysis</td>\n",
       "                        <td id=\"T_a04a47dc_450f_11ec_b727_0c7a15232679row7_col1\" class=\"data row7 col1\" >0.8780</td>\n",
       "                        <td id=\"T_a04a47dc_450f_11ec_b727_0c7a15232679row7_col2\" class=\"data row7 col2\" >0.9792</td>\n",
       "                        <td id=\"T_a04a47dc_450f_11ec_b727_0c7a15232679row7_col3\" class=\"data row7 col3\" >0.9252</td>\n",
       "                        <td id=\"T_a04a47dc_450f_11ec_b727_0c7a15232679row7_col4\" class=\"data row7 col4\" >0.9130</td>\n",
       "                        <td id=\"T_a04a47dc_450f_11ec_b727_0c7a15232679row7_col5\" class=\"data row7 col5\" >0.8835</td>\n",
       "                        <td id=\"T_a04a47dc_450f_11ec_b727_0c7a15232679row7_col6\" class=\"data row7 col6\" >0.8271</td>\n",
       "                        <td id=\"T_a04a47dc_450f_11ec_b727_0c7a15232679row7_col7\" class=\"data row7 col7\" >0.8359</td>\n",
       "                        <td id=\"T_a04a47dc_450f_11ec_b727_0c7a15232679row7_col8\" class=\"data row7 col8\" >0.0110</td>\n",
       "            </tr>\n",
       "            <tr>\n",
       "                        <th id=\"T_a04a47dc_450f_11ec_b727_0c7a15232679level0_row8\" class=\"row_heading level0 row8\" >ada</th>\n",
       "                        <td id=\"T_a04a47dc_450f_11ec_b727_0c7a15232679row8_col0\" class=\"data row8 col0\" >Ada Boost Classifier</td>\n",
       "                        <td id=\"T_a04a47dc_450f_11ec_b727_0c7a15232679row8_col1\" class=\"data row8 col1\" >0.8275</td>\n",
       "                        <td id=\"T_a04a47dc_450f_11ec_b727_0c7a15232679row8_col2\" class=\"data row8 col2\" >0.9694</td>\n",
       "                        <td id=\"T_a04a47dc_450f_11ec_b727_0c7a15232679row8_col3\" class=\"data row8 col3\" >0.6000</td>\n",
       "                        <td id=\"T_a04a47dc_450f_11ec_b727_0c7a15232679row8_col4\" class=\"data row8 col4\" >0.7248</td>\n",
       "                        <td id=\"T_a04a47dc_450f_11ec_b727_0c7a15232679row8_col5\" class=\"data row8 col5\" >0.7644</td>\n",
       "                        <td id=\"T_a04a47dc_450f_11ec_b727_0c7a15232679row8_col6\" class=\"data row8 col6\" >0.7392</td>\n",
       "                        <td id=\"T_a04a47dc_450f_11ec_b727_0c7a15232679row8_col7\" class=\"data row8 col7\" >0.7582</td>\n",
       "                        <td id=\"T_a04a47dc_450f_11ec_b727_0c7a15232679row8_col8\" class=\"data row8 col8\" >0.0310</td>\n",
       "            </tr>\n",
       "            <tr>\n",
       "                        <th id=\"T_a04a47dc_450f_11ec_b727_0c7a15232679level0_row9\" class=\"row_heading level0 row9\" >nb</th>\n",
       "                        <td id=\"T_a04a47dc_450f_11ec_b727_0c7a15232679row9_col0\" class=\"data row9 col0\" >Naive Bayes</td>\n",
       "                        <td id=\"T_a04a47dc_450f_11ec_b727_0c7a15232679row9_col1\" class=\"data row9 col1\" >0.6912</td>\n",
       "                        <td id=\"T_a04a47dc_450f_11ec_b727_0c7a15232679row9_col2\" class=\"data row9 col2\" >0.9071</td>\n",
       "                        <td id=\"T_a04a47dc_450f_11ec_b727_0c7a15232679row9_col3\" class=\"data row9 col3\" >0.8700</td>\n",
       "                        <td id=\"T_a04a47dc_450f_11ec_b727_0c7a15232679row9_col4\" class=\"data row9 col4\" >0.8523</td>\n",
       "                        <td id=\"T_a04a47dc_450f_11ec_b727_0c7a15232679row9_col5\" class=\"data row9 col5\" >0.6798</td>\n",
       "                        <td id=\"T_a04a47dc_450f_11ec_b727_0c7a15232679row9_col6\" class=\"data row9 col6\" >0.6070</td>\n",
       "                        <td id=\"T_a04a47dc_450f_11ec_b727_0c7a15232679row9_col7\" class=\"data row9 col7\" >0.6651</td>\n",
       "                        <td id=\"T_a04a47dc_450f_11ec_b727_0c7a15232679row9_col8\" class=\"data row9 col8\" >0.0110</td>\n",
       "            </tr>\n",
       "            <tr>\n",
       "                        <th id=\"T_a04a47dc_450f_11ec_b727_0c7a15232679level0_row10\" class=\"row_heading level0 row10\" >knn</th>\n",
       "                        <td id=\"T_a04a47dc_450f_11ec_b727_0c7a15232679row10_col0\" class=\"data row10 col0\" >K Neighbors Classifier</td>\n",
       "                        <td id=\"T_a04a47dc_450f_11ec_b727_0c7a15232679row10_col1\" class=\"data row10 col1\" >0.6610</td>\n",
       "                        <td id=\"T_a04a47dc_450f_11ec_b727_0c7a15232679row10_col2\" class=\"data row10 col2\" >0.8930</td>\n",
       "                        <td id=\"T_a04a47dc_450f_11ec_b727_0c7a15232679row10_col3\" class=\"data row10 col3\" >0.5333</td>\n",
       "                        <td id=\"T_a04a47dc_450f_11ec_b727_0c7a15232679row10_col4\" class=\"data row10 col4\" >0.6797</td>\n",
       "                        <td id=\"T_a04a47dc_450f_11ec_b727_0c7a15232679row10_col5\" class=\"data row10 col5\" >0.6575</td>\n",
       "                        <td id=\"T_a04a47dc_450f_11ec_b727_0c7a15232679row10_col6\" class=\"data row10 col6\" >0.5079</td>\n",
       "                        <td id=\"T_a04a47dc_450f_11ec_b727_0c7a15232679row10_col7\" class=\"data row10 col7\" >0.5163</td>\n",
       "                        <td id=\"T_a04a47dc_450f_11ec_b727_0c7a15232679row10_col8\" class=\"data row10 col8\" >0.0170</td>\n",
       "            </tr>\n",
       "            <tr>\n",
       "                        <th id=\"T_a04a47dc_450f_11ec_b727_0c7a15232679level0_row11\" class=\"row_heading level0 row11\" >svm</th>\n",
       "                        <td id=\"T_a04a47dc_450f_11ec_b727_0c7a15232679row11_col0\" class=\"data row11 col0\" >SVM - Linear Kernel</td>\n",
       "                        <td id=\"T_a04a47dc_450f_11ec_b727_0c7a15232679row11_col1\" class=\"data row11 col1\" >0.5181</td>\n",
       "                        <td id=\"T_a04a47dc_450f_11ec_b727_0c7a15232679row11_col2\" class=\"data row11 col2\" >0.0000</td>\n",
       "                        <td id=\"T_a04a47dc_450f_11ec_b727_0c7a15232679row11_col3\" class=\"data row11 col3\" >0.3314</td>\n",
       "                        <td id=\"T_a04a47dc_450f_11ec_b727_0c7a15232679row11_col4\" class=\"data row11 col4\" >0.4935</td>\n",
       "                        <td id=\"T_a04a47dc_450f_11ec_b727_0c7a15232679row11_col5\" class=\"data row11 col5\" >0.4534</td>\n",
       "                        <td id=\"T_a04a47dc_450f_11ec_b727_0c7a15232679row11_col6\" class=\"data row11 col6\" >0.2714</td>\n",
       "                        <td id=\"T_a04a47dc_450f_11ec_b727_0c7a15232679row11_col7\" class=\"data row11 col7\" >0.3399</td>\n",
       "                        <td id=\"T_a04a47dc_450f_11ec_b727_0c7a15232679row11_col8\" class=\"data row11 col8\" >0.0170</td>\n",
       "            </tr>\n",
       "            <tr>\n",
       "                        <th id=\"T_a04a47dc_450f_11ec_b727_0c7a15232679level0_row12\" class=\"row_heading level0 row12\" >ridge</th>\n",
       "                        <td id=\"T_a04a47dc_450f_11ec_b727_0c7a15232679row12_col0\" class=\"data row12 col0\" >Ridge Classifier</td>\n",
       "                        <td id=\"T_a04a47dc_450f_11ec_b727_0c7a15232679row12_col1\" class=\"data row12 col1\" >0.8709</td>\n",
       "                        <td id=\"T_a04a47dc_450f_11ec_b727_0c7a15232679row12_col2\" class=\"data row12 col2\" >0.0000</td>\n",
       "                        <td id=\"T_a04a47dc_450f_11ec_b727_0c7a15232679row12_col3\" class=\"data row12 col3\" >0.8424</td>\n",
       "                        <td id=\"T_a04a47dc_450f_11ec_b727_0c7a15232679row12_col4\" class=\"data row12 col4\" >0.8679</td>\n",
       "                        <td id=\"T_a04a47dc_450f_11ec_b727_0c7a15232679row12_col5\" class=\"data row12 col5\" >0.8578</td>\n",
       "                        <td id=\"T_a04a47dc_450f_11ec_b727_0c7a15232679row12_col6\" class=\"data row12 col6\" >0.8025</td>\n",
       "                        <td id=\"T_a04a47dc_450f_11ec_b727_0c7a15232679row12_col7\" class=\"data row12 col7\" >0.8117</td>\n",
       "                        <td id=\"T_a04a47dc_450f_11ec_b727_0c7a15232679row12_col8\" class=\"data row12 col8\" >0.0090</td>\n",
       "            </tr>\n",
       "            <tr>\n",
       "                        <th id=\"T_a04a47dc_450f_11ec_b727_0c7a15232679level0_row13\" class=\"row_heading level0 row13\" >qda</th>\n",
       "                        <td id=\"T_a04a47dc_450f_11ec_b727_0c7a15232679row13_col0\" class=\"data row13 col0\" >Quadratic Discriminant Analysis</td>\n",
       "                        <td id=\"T_a04a47dc_450f_11ec_b727_0c7a15232679row13_col1\" class=\"data row13 col1\" >0.1077</td>\n",
       "                        <td id=\"T_a04a47dc_450f_11ec_b727_0c7a15232679row13_col2\" class=\"data row13 col2\" >0.0000</td>\n",
       "                        <td id=\"T_a04a47dc_450f_11ec_b727_0c7a15232679row13_col3\" class=\"data row13 col3\" >0.2000</td>\n",
       "                        <td id=\"T_a04a47dc_450f_11ec_b727_0c7a15232679row13_col4\" class=\"data row13 col4\" >0.0128</td>\n",
       "                        <td id=\"T_a04a47dc_450f_11ec_b727_0c7a15232679row13_col5\" class=\"data row13 col5\" >0.0228</td>\n",
       "                        <td id=\"T_a04a47dc_450f_11ec_b727_0c7a15232679row13_col6\" class=\"data row13 col6\" >0.0000</td>\n",
       "                        <td id=\"T_a04a47dc_450f_11ec_b727_0c7a15232679row13_col7\" class=\"data row13 col7\" >0.0000</td>\n",
       "                        <td id=\"T_a04a47dc_450f_11ec_b727_0c7a15232679row13_col8\" class=\"data row13 col8\" >0.0190</td>\n",
       "            </tr>\n",
       "    </tbody></table>"
      ],
      "text/plain": [
       "<pandas.io.formats.style.Styler at 0x2337f513040>"
      ]
     },
     "metadata": {},
     "output_type": "display_data"
    }
   ],
   "source": [
    "best_3 = compare_models(sort = 'AUC', n_select = 3)"
   ]
  },
  {
   "cell_type": "markdown",
   "metadata": {},
   "source": [
    "- DT(과적합), LR, RF, LGBM, XGBoost 다 너무 성능이 훌륭 --> 문제가 너무 쉬운 문제여서..\n",
    "- 그래서 NGBoost의 성능이 더 좋은지를 비교하기가 조금 그렇지만 그래도 해보겠습니다"
   ]
  },
  {
   "cell_type": "markdown",
   "metadata": {},
   "source": [
    "#### NGBoost"
   ]
  },
  {
   "cell_type": "markdown",
   "metadata": {},
   "source": [
    "- pycaret은 파라미터 튜닝을 하지 않고 모델을 비교하는데 이미 최고의 성능을 보여줬기 때문에 NGBoost도 특별히 파라미터 튜닝을 하지 않고 비교해보겠습니다 "
   ]
  },
  {
   "cell_type": "markdown",
   "metadata": {},
   "source": [
    "- NGBoost 분류는 무조건 target label이 정수로 되어있어야합니다"
   ]
  },
  {
   "cell_type": "code",
   "execution_count": 26,
   "metadata": {},
   "outputs": [],
   "source": [
    "Drug = {'A':0, 'B':1, 'C':2, 'X':3, 'Y':4}\n",
    "df['Drug'] = df['Drug'].replace(Drug)"
   ]
  },
  {
   "cell_type": "code",
   "execution_count": 27,
   "metadata": {},
   "outputs": [],
   "source": [
    "X = df.drop(['Drug'], axis=1)\n",
    "y = df['Drug']"
   ]
  },
  {
   "cell_type": "markdown",
   "metadata": {},
   "source": [
    "- 과적합이 되어버렸다"
   ]
  },
  {
   "cell_type": "code",
   "execution_count": null,
   "metadata": {},
   "outputs": [],
   "source": []
  },
  {
   "cell_type": "code",
   "execution_count": 54,
   "metadata": {},
   "outputs": [],
   "source": [
    "from sklearn.model_selection import train_test_split\n",
    "from sklearn.metrics import classification_report\n",
    "from sklearn.tree import DecisionTreeClassifier\n",
    "from sklearn.ensemble import RandomForestClassifier\n",
    "from sklearn.linear_model import LogisticRegression\n",
    "from xgboost import XGBClassifier\n",
    "from lightgbm import LGBMClassifier\n",
    "from ngboost import NGBClassifier\n",
    "from ngboost.distns import k_categorical"
   ]
  },
  {
   "cell_type": "code",
   "execution_count": 48,
   "metadata": {},
   "outputs": [],
   "source": [
    "X_train, X_test, y_train, y_test = train_test_split(X, y, test_size=0.2, random_state=0)"
   ]
  },
  {
   "cell_type": "code",
   "execution_count": 49,
   "metadata": {},
   "outputs": [],
   "source": [
    "from sklearn.metrics import accuracy_score, auc, recall_score, f1_score"
   ]
  },
  {
   "cell_type": "code",
   "execution_count": 55,
   "metadata": {},
   "outputs": [],
   "source": [
    "dt_clf = DecisionTreeClassifier(random_state=0)\n",
    "rf_clf = RandomForestClassifier(random_state=0)\n",
    "lr_clf = LogisticRegression(random_state=0)\n",
    "xgb_clf = XGBClassifier(random_state=0)\n",
    "lgm_clf = LGBMClassifier(random_state=0)\n",
    "ngb_clf = NGBClassifier(Dist=k_categorical(5), verbose=False)"
   ]
  },
  {
   "cell_type": "code",
   "execution_count": 56,
   "metadata": {},
   "outputs": [],
   "source": [
    "clf = {'결정트리':dt_clf, '랜덤포레스트':rf_clf, '로지스틱':lr_clf, 'XGBOOST':xgb_clf, 'LightGBM':lgm_clf, 'NGBoost':ngb_clf}"
   ]
  },
  {
   "cell_type": "code",
   "execution_count": 57,
   "metadata": {},
   "outputs": [
    {
     "name": "stdout",
     "output_type": "stream",
     "text": [
      "\n",
      "\n",
      "model: 결정트리\n",
      "accuracy_score: 1.0 recall_score: 1.0 f1_score: 1.0\n",
      "\n",
      "\n",
      "model: 랜덤포레스트\n",
      "accuracy_score: 1.0 recall_score: 1.0 f1_score: 1.0\n",
      "\n",
      "\n",
      "model: 로지스틱\n",
      "accuracy_score: 0.9 recall_score: 0.9 f1_score: 0.8982439024390244\n",
      "\n",
      "\n",
      "model: XGBOOST\n",
      "accuracy_score: 1.0 recall_score: 1.0 f1_score: 1.0\n",
      "\n",
      "\n",
      "model: LightGBM\n",
      "accuracy_score: 1.0 recall_score: 1.0 f1_score: 1.0\n",
      "\n",
      "\n",
      "model: NGBoost\n",
      "accuracy_score: 0.975 recall_score: 0.975 f1_score: 0.9729310344827586\n"
     ]
    }
   ],
   "source": [
    "for name, md in clf.items():\n",
    "    md.fit(X_train, y_train)\n",
    "    pred = md.predict(X_test)\n",
    "    \n",
    "    ac = accuracy_score(y_test, pred)\n",
    "    rs = recall_score(y_test, pred, average='weighted')\n",
    "    f1 = f1_score(y_test, pred, average='weighted')\n",
    "    print('\\n')\n",
    "    print('model:', name)\n",
    "    print('accuracy_score:', ac, 'recall_score:', rs, 'f1_score:', f1)"
   ]
  },
  {
   "cell_type": "code",
   "execution_count": 59,
   "metadata": {},
   "outputs": [
    {
     "data": {
      "text/plain": [
       "array([[7.61431398e-30, 5.71073549e-30, 1.00000000e+00, 2.21045458e-23,\n",
       "        2.74115303e-29],\n",
       "       [2.37387004e-13, 1.78040250e-13, 1.54301548e-13, 1.00000000e+00,\n",
       "        8.54593191e-13],\n",
       "       [1.18364734e-09, 8.87735497e-10, 7.69370763e-10, 2.36729466e-09,\n",
       "        9.99999995e-01],\n",
       "       [1.18364734e-09, 8.87735497e-10, 7.69370764e-10, 2.36729466e-09,\n",
       "        9.99999995e-01],\n",
       "       [1.18364734e-09, 8.87735484e-10, 7.69370763e-10, 2.36729466e-09,\n",
       "        9.99999995e-01]])"
      ]
     },
     "execution_count": 59,
     "metadata": {},
     "output_type": "execute_result"
    }
   ],
   "source": [
    "ngb_clf.predict_proba(X_test[0:5])"
   ]
  },
  {
   "cell_type": "code",
   "execution_count": 60,
   "metadata": {},
   "outputs": [
    {
     "data": {
      "text/plain": [
       "{'p0': array([7.61431398e-30, 2.37387004e-13, 1.18364734e-09, 1.18364734e-09,\n",
       "        1.18364734e-09]),\n",
       " 'p1': array([5.71073549e-30, 1.78040250e-13, 8.87735497e-10, 8.87735497e-10,\n",
       "        8.87735484e-10]),\n",
       " 'p2': array([1.00000000e+00, 1.54301548e-13, 7.69370763e-10, 7.69370764e-10,\n",
       "        7.69370763e-10]),\n",
       " 'p3': array([2.21045458e-23, 1.00000000e+00, 2.36729466e-09, 2.36729466e-09,\n",
       "        2.36729466e-09]),\n",
       " 'p4': array([2.74115303e-29, 8.54593191e-13, 9.99999995e-01, 9.99999995e-01,\n",
       "        9.99999995e-01])}"
      ]
     },
     "execution_count": 60,
     "metadata": {},
     "output_type": "execute_result"
    }
   ],
   "source": [
    "ngb_clf.pred_dist(X_test)[0:5].params"
   ]
  },
  {
   "cell_type": "code",
   "execution_count": null,
   "metadata": {},
   "outputs": [],
   "source": []
  }
 ],
 "metadata": {
  "kernelspec": {
   "display_name": "Python 3",
   "language": "python",
   "name": "python3"
  },
  "language_info": {
   "codemirror_mode": {
    "name": "ipython",
    "version": 3
   },
   "file_extension": ".py",
   "mimetype": "text/x-python",
   "name": "python",
   "nbconvert_exporter": "python",
   "pygments_lexer": "ipython3",
   "version": "3.8.8"
  }
 },
 "nbformat": 4,
 "nbformat_minor": 4
}
