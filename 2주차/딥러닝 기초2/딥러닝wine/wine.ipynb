{
 "cells": [
  {
   "cell_type": "code",
   "execution_count": 20,
   "id": "6b6bdf42",
   "metadata": {},
   "outputs": [],
   "source": [
    "import pandas as pd\n",
    "import numpy as np\n",
    "import random\n",
    "import tensorflow as tf\n",
    "import matplotlib.pyplot as plt\n",
    "import seaborn as sns\n",
    "from sklearn.neural_network import MLPClassifier"
   ]
  },
  {
   "cell_type": "markdown",
   "id": "993b3e5f",
   "metadata": {},
   "source": [
    "### 랜덤시드 고정"
   ]
  },
  {
   "cell_type": "code",
   "execution_count": 3,
   "id": "512f9f44",
   "metadata": {},
   "outputs": [
    {
     "name": "stdout",
     "output_type": "stream",
     "text": [
      "시드 고정: 12\n"
     ]
    }
   ],
   "source": [
    "# 딥러닝 모델의 재현성을 높이기 위해 가능한 모든 랜덤 시드를 고정해두는 것이 좋아서 \n",
    "# 난수 발생에 관련된 랜덤 시드를 고정\n",
    "SEED=12\n",
    "random.seed(SEED)\n",
    "np.random.seed(SEED) #난수생성\n",
    "tf.random.set_seed(SEED)\n",
    "print(\"시드 고정:\", SEED)"
   ]
  },
  {
   "cell_type": "code",
   "execution_count": 4,
   "id": "28bfac6e",
   "metadata": {},
   "outputs": [],
   "source": [
    "data = pd.read_csv('wine.csv')"
   ]
  },
  {
   "cell_type": "code",
   "execution_count": 6,
   "id": "2f8b8888",
   "metadata": {},
   "outputs": [
    {
     "data": {
      "text/plain": [
       "(5497, 14)"
      ]
     },
     "execution_count": 6,
     "metadata": {},
     "output_type": "execute_result"
    }
   ],
   "source": [
    "data.shape"
   ]
  },
  {
   "cell_type": "code",
   "execution_count": 8,
   "id": "a97d914d",
   "metadata": {},
   "outputs": [
    {
     "data": {
      "text/html": [
       "<div>\n",
       "<style scoped>\n",
       "    .dataframe tbody tr th:only-of-type {\n",
       "        vertical-align: middle;\n",
       "    }\n",
       "\n",
       "    .dataframe tbody tr th {\n",
       "        vertical-align: top;\n",
       "    }\n",
       "\n",
       "    .dataframe thead th {\n",
       "        text-align: right;\n",
       "    }\n",
       "</style>\n",
       "<table border=\"1\" class=\"dataframe\">\n",
       "  <thead>\n",
       "    <tr style=\"text-align: right;\">\n",
       "      <th></th>\n",
       "      <th>index</th>\n",
       "      <th>quality</th>\n",
       "      <th>fixed acidity</th>\n",
       "      <th>volatile acidity</th>\n",
       "      <th>citric acid</th>\n",
       "      <th>residual sugar</th>\n",
       "      <th>chlorides</th>\n",
       "      <th>free sulfur dioxide</th>\n",
       "      <th>total sulfur dioxide</th>\n",
       "      <th>density</th>\n",
       "      <th>pH</th>\n",
       "      <th>sulphates</th>\n",
       "      <th>alcohol</th>\n",
       "      <th>type</th>\n",
       "    </tr>\n",
       "  </thead>\n",
       "  <tbody>\n",
       "    <tr>\n",
       "      <th>0</th>\n",
       "      <td>0</td>\n",
       "      <td>5</td>\n",
       "      <td>5.6</td>\n",
       "      <td>0.695</td>\n",
       "      <td>0.06</td>\n",
       "      <td>6.8</td>\n",
       "      <td>0.042</td>\n",
       "      <td>9.0</td>\n",
       "      <td>84.0</td>\n",
       "      <td>0.99432</td>\n",
       "      <td>3.44</td>\n",
       "      <td>0.44</td>\n",
       "      <td>10.2</td>\n",
       "      <td>white</td>\n",
       "    </tr>\n",
       "    <tr>\n",
       "      <th>1</th>\n",
       "      <td>1</td>\n",
       "      <td>5</td>\n",
       "      <td>8.8</td>\n",
       "      <td>0.610</td>\n",
       "      <td>0.14</td>\n",
       "      <td>2.4</td>\n",
       "      <td>0.067</td>\n",
       "      <td>10.0</td>\n",
       "      <td>42.0</td>\n",
       "      <td>0.99690</td>\n",
       "      <td>3.19</td>\n",
       "      <td>0.59</td>\n",
       "      <td>9.5</td>\n",
       "      <td>red</td>\n",
       "    </tr>\n",
       "    <tr>\n",
       "      <th>2</th>\n",
       "      <td>2</td>\n",
       "      <td>5</td>\n",
       "      <td>7.9</td>\n",
       "      <td>0.210</td>\n",
       "      <td>0.39</td>\n",
       "      <td>2.0</td>\n",
       "      <td>0.057</td>\n",
       "      <td>21.0</td>\n",
       "      <td>138.0</td>\n",
       "      <td>0.99176</td>\n",
       "      <td>3.05</td>\n",
       "      <td>0.52</td>\n",
       "      <td>10.9</td>\n",
       "      <td>white</td>\n",
       "    </tr>\n",
       "    <tr>\n",
       "      <th>3</th>\n",
       "      <td>3</td>\n",
       "      <td>6</td>\n",
       "      <td>7.0</td>\n",
       "      <td>0.210</td>\n",
       "      <td>0.31</td>\n",
       "      <td>6.0</td>\n",
       "      <td>0.046</td>\n",
       "      <td>29.0</td>\n",
       "      <td>108.0</td>\n",
       "      <td>0.99390</td>\n",
       "      <td>3.26</td>\n",
       "      <td>0.50</td>\n",
       "      <td>10.8</td>\n",
       "      <td>white</td>\n",
       "    </tr>\n",
       "    <tr>\n",
       "      <th>4</th>\n",
       "      <td>4</td>\n",
       "      <td>6</td>\n",
       "      <td>7.8</td>\n",
       "      <td>0.400</td>\n",
       "      <td>0.26</td>\n",
       "      <td>9.5</td>\n",
       "      <td>0.059</td>\n",
       "      <td>32.0</td>\n",
       "      <td>178.0</td>\n",
       "      <td>0.99550</td>\n",
       "      <td>3.04</td>\n",
       "      <td>0.43</td>\n",
       "      <td>10.9</td>\n",
       "      <td>white</td>\n",
       "    </tr>\n",
       "  </tbody>\n",
       "</table>\n",
       "</div>"
      ],
      "text/plain": [
       "   index  quality  fixed acidity  volatile acidity  citric acid  \\\n",
       "0      0        5            5.6             0.695         0.06   \n",
       "1      1        5            8.8             0.610         0.14   \n",
       "2      2        5            7.9             0.210         0.39   \n",
       "3      3        6            7.0             0.210         0.31   \n",
       "4      4        6            7.8             0.400         0.26   \n",
       "\n",
       "   residual sugar  chlorides  free sulfur dioxide  total sulfur dioxide  \\\n",
       "0             6.8      0.042                  9.0                  84.0   \n",
       "1             2.4      0.067                 10.0                  42.0   \n",
       "2             2.0      0.057                 21.0                 138.0   \n",
       "3             6.0      0.046                 29.0                 108.0   \n",
       "4             9.5      0.059                 32.0                 178.0   \n",
       "\n",
       "   density    pH  sulphates  alcohol   type  \n",
       "0  0.99432  3.44       0.44     10.2  white  \n",
       "1  0.99690  3.19       0.59      9.5    red  \n",
       "2  0.99176  3.05       0.52     10.9  white  \n",
       "3  0.99390  3.26       0.50     10.8  white  \n",
       "4  0.99550  3.04       0.43     10.9  white  "
      ]
     },
     "execution_count": 8,
     "metadata": {},
     "output_type": "execute_result"
    }
   ],
   "source": [
    "data.head()\n",
    "# 목표변수 = quality = 다중분류 3-9등급"
   ]
  },
  {
   "cell_type": "code",
   "execution_count": 9,
   "id": "4b82f7db",
   "metadata": {},
   "outputs": [
    {
     "data": {
      "text/plain": [
       "white    4159\n",
       "red      1338\n",
       "Name: type, dtype: int64"
      ]
     },
     "execution_count": 9,
     "metadata": {},
     "output_type": "execute_result"
    }
   ],
   "source": [
    "data['type'].value_counts()"
   ]
  },
  {
   "cell_type": "code",
   "execution_count": 10,
   "id": "1ca097a8",
   "metadata": {},
   "outputs": [
    {
     "data": {
      "text/plain": [
       "1    4159\n",
       "0    1338\n",
       "Name: type, dtype: int64"
      ]
     },
     "execution_count": 10,
     "metadata": {},
     "output_type": "execute_result"
    }
   ],
   "source": [
    "#type 숫자형으로 변환 white=1, red=0\n",
    "data['type']=np.where(data['type']=='white', 1, 0).astype(int)\n",
    "data['type'].value_counts()"
   ]
  },
  {
   "cell_type": "markdown",
   "id": "2123f667",
   "metadata": {},
   "source": [
    "### 목표변수 확인\n",
    "#### 3등급부터 9등급"
   ]
  },
  {
   "cell_type": "code",
   "execution_count": 11,
   "id": "7092fc27",
   "metadata": {},
   "outputs": [
    {
     "data": {
      "text/plain": [
       "6    2416\n",
       "5    1788\n",
       "7     924\n",
       "4     186\n",
       "8     152\n",
       "3      26\n",
       "9       5\n",
       "Name: quality, dtype: int64"
      ]
     },
     "execution_count": 11,
     "metadata": {},
     "output_type": "execute_result"
    }
   ],
   "source": [
    "data['quality'].value_counts()"
   ]
  },
  {
   "cell_type": "code",
   "execution_count": 12,
   "id": "f335eeb2",
   "metadata": {},
   "outputs": [
    {
     "data": {
      "text/plain": [
       "array([[0., 0., 1., ..., 0., 0., 0.],\n",
       "       [0., 0., 1., ..., 0., 0., 0.],\n",
       "       [0., 0., 1., ..., 0., 0., 0.],\n",
       "       ...,\n",
       "       [0., 0., 0., ..., 1., 0., 0.],\n",
       "       [0., 0., 1., ..., 0., 0., 0.],\n",
       "       [0., 0., 0., ..., 0., 0., 0.]], dtype=float32)"
      ]
     },
     "execution_count": 12,
     "metadata": {},
     "output_type": "execute_result"
    }
   ],
   "source": [
    "#연속형 숫자데이터가 아니라 등급을 나타내는 범주형데이터임 -> 원핫인코딩\n",
    "# 3 빼서 등급을 0~6으로 변경\n",
    "from tensorflow.keras.utils import to_categorical\n",
    "\n",
    "y_train = to_categorical(data.loc[:, 'quality'] - 3)\n",
    "y_train"
   ]
  },
  {
   "cell_type": "markdown",
   "id": "7c30dd42",
   "metadata": {},
   "source": [
    "### 피처선택"
   ]
  },
  {
   "cell_type": "code",
   "execution_count": 13,
   "id": "2912659c",
   "metadata": {},
   "outputs": [],
   "source": [
    "x_train = data.loc[:, 'fixed acidity':]"
   ]
  },
  {
   "cell_type": "markdown",
   "id": "fd10d671",
   "metadata": {},
   "source": [
    "### 피처스케일링"
   ]
  },
  {
   "cell_type": "code",
   "execution_count": 14,
   "id": "a1710765",
   "metadata": {},
   "outputs": [
    {
     "name": "stdout",
     "output_type": "stream",
     "text": [
      "(5497, 12) (5497, 7)\n"
     ]
    }
   ],
   "source": [
    "# 데이터를 0~1범위로 정규화 변환\n",
    "# 입력데이터의 서로 다른 피처 값의 범위를 비슷한 크기를 맞춰 주면 모델 성능을 확보하는데 유리하기 때문에 함\n",
    "from sklearn.preprocessing import MinMaxScaler\n",
    "scaler = MinMaxScaler()\n",
    "scaler.fit(x_train)\n",
    "x_train_scaled = scaler.fit_transform(x_train)\n",
    "\n",
    "print(x_train_scaled.shape, y_train.shape)"
   ]
  },
  {
   "cell_type": "markdown",
   "id": "7f065293",
   "metadata": {},
   "source": [
    "### 모델 설계"
   ]
  },
  {
   "cell_type": "code",
   "execution_count": 16,
   "id": "71e5d959",
   "metadata": {},
   "outputs": [
    {
     "name": "stdout",
     "output_type": "stream",
     "text": [
      "Model: \"sequential_1\"\n",
      "_________________________________________________________________\n",
      " Layer (type)                Output Shape              Param #   \n",
      "=================================================================\n",
      " dense_2 (Dense)             (None, 128)               1664      \n",
      "                                                                 \n",
      " dropout_2 (Dropout)         (None, 128)               0         \n",
      "                                                                 \n",
      " dense_3 (Dense)             (None, 64)                8256      \n",
      "                                                                 \n",
      " dropout_3 (Dropout)         (None, 64)                0         \n",
      "                                                                 \n",
      " dense_4 (Dense)             (None, 32)                2080      \n",
      "                                                                 \n",
      " dense_5 (Dense)             (None, 7)                 231       \n",
      "                                                                 \n",
      "=================================================================\n",
      "Total params: 12,231\n",
      "Trainable params: 12,231\n",
      "Non-trainable params: 0\n",
      "_________________________________________________________________\n"
     ]
    }
   ],
   "source": [
    "# 4개 층으로 구성되는 신경망 모델\n",
    "# 과대적합 방지 위해 드랍아웃 레이어 추가 = 입력층과 은닝층의 연결 중 일부를 랜덤하게 제거 = 가중치를 줄일 수 있음\n",
    "# 다중분류이므로 softmax함수를 출력렝어의 활성화함수로 지정\n",
    "# tanh함수는 -1~1의 출력범위를 가짐, 입력값이 0근처일때는 학습율이 좋다\n",
    "\n",
    "from tensorflow.keras import Sequential\n",
    "from tensorflow.keras.layers import Dense, Dropout\n",
    "\n",
    "def build_model(train_data, train_target):\n",
    "    model = Sequential()\n",
    "    model.add(Dense(128, activation='tanh', input_dim=train_data.shape[1]))\n",
    "    model.add(Dropout(0.2))\n",
    "    model.add(Dense(64, activation='tanh'))\n",
    "    model.add(Dropout(0.2))\n",
    "    model.add(Dense(32, activation='tanh'))\n",
    "    model.add(Dense(train_target.shape[1], activation='sigmoid'))\n",
    "    \n",
    "    model.compile(optimizer='RMSProp', loss='categorical_crossentropy',\n",
    "                  metrics=['acc', 'mae'])\n",
    "    \n",
    "    return model\n",
    "\n",
    "model = build_model(x_train_scaled, y_train)\n",
    "model.summary()"
   ]
  },
  {
   "cell_type": "code",
   "execution_count": 17,
   "id": "328f838f",
   "metadata": {},
   "outputs": [
    {
     "name": "stdout",
     "output_type": "stream",
     "text": [
      "Epoch 1/200\n",
      "73/73 - 3s - loss: 1.3012 - acc: 0.4510 - mae: 0.3917 - val_loss: 1.1593 - val_acc: 0.5127 - val_mae: 0.3618 - 3s/epoch - 38ms/step\n",
      "Epoch 2/200\n",
      "73/73 - 0s - loss: 1.1708 - acc: 0.4964 - mae: 0.3606 - val_loss: 1.1032 - val_acc: 0.5394 - val_mae: 0.3566 - 297ms/epoch - 4ms/step\n",
      "Epoch 3/200\n",
      "73/73 - 0s - loss: 1.1377 - acc: 0.5193 - mae: 0.3508 - val_loss: 1.0797 - val_acc: 0.5455 - val_mae: 0.3405 - 227ms/epoch - 3ms/step\n",
      "Epoch 4/200\n",
      "73/73 - 0s - loss: 1.1305 - acc: 0.5231 - mae: 0.3445 - val_loss: 1.1123 - val_acc: 0.5091 - val_mae: 0.3447 - 241ms/epoch - 3ms/step\n",
      "Epoch 5/200\n",
      "73/73 - 0s - loss: 1.1105 - acc: 0.5366 - mae: 0.3377 - val_loss: 1.0647 - val_acc: 0.5588 - val_mae: 0.3345 - 268ms/epoch - 4ms/step\n",
      "Epoch 6/200\n",
      "73/73 - 0s - loss: 1.1079 - acc: 0.5229 - mae: 0.3344 - val_loss: 1.0583 - val_acc: 0.5552 - val_mae: 0.3300 - 258ms/epoch - 4ms/step\n",
      "Epoch 7/200\n",
      "73/73 - 0s - loss: 1.1015 - acc: 0.5347 - mae: 0.3316 - val_loss: 1.0567 - val_acc: 0.5503 - val_mae: 0.3247 - 286ms/epoch - 4ms/step\n",
      "Epoch 8/200\n",
      "73/73 - 0s - loss: 1.1001 - acc: 0.5255 - mae: 0.3278 - val_loss: 1.0627 - val_acc: 0.5539 - val_mae: 0.3187 - 257ms/epoch - 4ms/step\n",
      "Epoch 9/200\n",
      "73/73 - 0s - loss: 1.0954 - acc: 0.5270 - mae: 0.3252 - val_loss: 1.0601 - val_acc: 0.5515 - val_mae: 0.3229 - 291ms/epoch - 4ms/step\n",
      "Epoch 10/200\n",
      "73/73 - 0s - loss: 1.0969 - acc: 0.5285 - mae: 0.3263 - val_loss: 1.0581 - val_acc: 0.5467 - val_mae: 0.3275 - 261ms/epoch - 4ms/step\n",
      "Epoch 11/200\n",
      "73/73 - 0s - loss: 1.0879 - acc: 0.5368 - mae: 0.3271 - val_loss: 1.0502 - val_acc: 0.5382 - val_mae: 0.3220 - 307ms/epoch - 4ms/step\n",
      "Epoch 12/200\n",
      "73/73 - 0s - loss: 1.0870 - acc: 0.5353 - mae: 0.3268 - val_loss: 1.0498 - val_acc: 0.5455 - val_mae: 0.3170 - 298ms/epoch - 4ms/step\n",
      "Epoch 13/200\n",
      "73/73 - 0s - loss: 1.0912 - acc: 0.5293 - mae: 0.3229 - val_loss: 1.0520 - val_acc: 0.5503 - val_mae: 0.3270 - 309ms/epoch - 4ms/step\n",
      "Epoch 14/200\n",
      "73/73 - 0s - loss: 1.0841 - acc: 0.5381 - mae: 0.3247 - val_loss: 1.0446 - val_acc: 0.5479 - val_mae: 0.3154 - 280ms/epoch - 4ms/step\n",
      "Epoch 15/200\n",
      "73/73 - 0s - loss: 1.0819 - acc: 0.5385 - mae: 0.3223 - val_loss: 1.0516 - val_acc: 0.5430 - val_mae: 0.3200 - 225ms/epoch - 3ms/step\n",
      "Epoch 16/200\n",
      "73/73 - 0s - loss: 1.0833 - acc: 0.5368 - mae: 0.3235 - val_loss: 1.0487 - val_acc: 0.5539 - val_mae: 0.3204 - 245ms/epoch - 3ms/step\n",
      "Epoch 17/200\n",
      "73/73 - 0s - loss: 1.0780 - acc: 0.5368 - mae: 0.3226 - val_loss: 1.0473 - val_acc: 0.5467 - val_mae: 0.3194 - 239ms/epoch - 3ms/step\n",
      "Epoch 18/200\n",
      "73/73 - 0s - loss: 1.0824 - acc: 0.5306 - mae: 0.3217 - val_loss: 1.0496 - val_acc: 0.5455 - val_mae: 0.3217 - 223ms/epoch - 3ms/step\n",
      "Epoch 19/200\n",
      "73/73 - 0s - loss: 1.0781 - acc: 0.5385 - mae: 0.3209 - val_loss: 1.0387 - val_acc: 0.5539 - val_mae: 0.3174 - 230ms/epoch - 3ms/step\n",
      "Epoch 20/200\n",
      "73/73 - 0s - loss: 1.0746 - acc: 0.5364 - mae: 0.3213 - val_loss: 1.0370 - val_acc: 0.5612 - val_mae: 0.3149 - 242ms/epoch - 3ms/step\n",
      "Epoch 21/200\n",
      "73/73 - 0s - loss: 1.0722 - acc: 0.5417 - mae: 0.3189 - val_loss: 1.0395 - val_acc: 0.5515 - val_mae: 0.3189 - 229ms/epoch - 3ms/step\n",
      "Epoch 22/200\n",
      "73/73 - 0s - loss: 1.0743 - acc: 0.5387 - mae: 0.3200 - val_loss: 1.0528 - val_acc: 0.5285 - val_mae: 0.3173 - 233ms/epoch - 3ms/step\n",
      "Epoch 23/200\n",
      "73/73 - 0s - loss: 1.0755 - acc: 0.5390 - mae: 0.3208 - val_loss: 1.0489 - val_acc: 0.5648 - val_mae: 0.3108 - 280ms/epoch - 4ms/step\n",
      "Epoch 24/200\n",
      "73/73 - 0s - loss: 1.0674 - acc: 0.5370 - mae: 0.3157 - val_loss: 1.0359 - val_acc: 0.5588 - val_mae: 0.3132 - 285ms/epoch - 4ms/step\n",
      "Epoch 25/200\n",
      "73/73 - 0s - loss: 1.0700 - acc: 0.5420 - mae: 0.3151 - val_loss: 1.0343 - val_acc: 0.5612 - val_mae: 0.3093 - 230ms/epoch - 3ms/step\n",
      "Epoch 26/200\n",
      "73/73 - 0s - loss: 1.0653 - acc: 0.5430 - mae: 0.3127 - val_loss: 1.0553 - val_acc: 0.5382 - val_mae: 0.3109 - 233ms/epoch - 3ms/step\n",
      "Epoch 27/200\n",
      "73/73 - 0s - loss: 1.0654 - acc: 0.5407 - mae: 0.3117 - val_loss: 1.0428 - val_acc: 0.5515 - val_mae: 0.3088 - 282ms/epoch - 4ms/step\n",
      "Epoch 28/200\n",
      "73/73 - 0s - loss: 1.0627 - acc: 0.5464 - mae: 0.3118 - val_loss: 1.0361 - val_acc: 0.5479 - val_mae: 0.3065 - 422ms/epoch - 6ms/step\n",
      "Epoch 29/200\n",
      "73/73 - 0s - loss: 1.0621 - acc: 0.5407 - mae: 0.3103 - val_loss: 1.0411 - val_acc: 0.5479 - val_mae: 0.3106 - 404ms/epoch - 6ms/step\n",
      "Epoch 30/200\n",
      "73/73 - 0s - loss: 1.0612 - acc: 0.5443 - mae: 0.3103 - val_loss: 1.0338 - val_acc: 0.5552 - val_mae: 0.3026 - 411ms/epoch - 6ms/step\n",
      "Epoch 31/200\n",
      "73/73 - 0s - loss: 1.0618 - acc: 0.5437 - mae: 0.3086 - val_loss: 1.0349 - val_acc: 0.5661 - val_mae: 0.3068 - 346ms/epoch - 5ms/step\n",
      "Epoch 32/200\n",
      "73/73 - 0s - loss: 1.0594 - acc: 0.5439 - mae: 0.3084 - val_loss: 1.0330 - val_acc: 0.5552 - val_mae: 0.3021 - 238ms/epoch - 3ms/step\n",
      "Epoch 33/200\n",
      "73/73 - 0s - loss: 1.0537 - acc: 0.5477 - mae: 0.3054 - val_loss: 1.0369 - val_acc: 0.5576 - val_mae: 0.3034 - 231ms/epoch - 3ms/step\n",
      "Epoch 34/200\n",
      "73/73 - 0s - loss: 1.0557 - acc: 0.5441 - mae: 0.3048 - val_loss: 1.0290 - val_acc: 0.5661 - val_mae: 0.3002 - 233ms/epoch - 3ms/step\n",
      "Epoch 35/200\n",
      "73/73 - 0s - loss: 1.0484 - acc: 0.5490 - mae: 0.3025 - val_loss: 1.0340 - val_acc: 0.5503 - val_mae: 0.2970 - 238ms/epoch - 3ms/step\n",
      "Epoch 36/200\n",
      "73/73 - 0s - loss: 1.0516 - acc: 0.5477 - mae: 0.3022 - val_loss: 1.0386 - val_acc: 0.5515 - val_mae: 0.3056 - 298ms/epoch - 4ms/step\n",
      "Epoch 37/200\n",
      "73/73 - 0s - loss: 1.0482 - acc: 0.5494 - mae: 0.3027 - val_loss: 1.0282 - val_acc: 0.5503 - val_mae: 0.2985 - 230ms/epoch - 3ms/step\n",
      "Epoch 38/200\n",
      "73/73 - 0s - loss: 1.0487 - acc: 0.5469 - mae: 0.3013 - val_loss: 1.0301 - val_acc: 0.5455 - val_mae: 0.2951 - 222ms/epoch - 3ms/step\n",
      "Epoch 39/200\n",
      "73/73 - 0s - loss: 1.0476 - acc: 0.5514 - mae: 0.2993 - val_loss: 1.0295 - val_acc: 0.5636 - val_mae: 0.2981 - 214ms/epoch - 3ms/step\n",
      "Epoch 40/200\n",
      "73/73 - 0s - loss: 1.0479 - acc: 0.5484 - mae: 0.3012 - val_loss: 1.0289 - val_acc: 0.5915 - val_mae: 0.3026 - 238ms/epoch - 3ms/step\n",
      "Epoch 41/200\n",
      "73/73 - 0s - loss: 1.0458 - acc: 0.5527 - mae: 0.3009 - val_loss: 1.0271 - val_acc: 0.5806 - val_mae: 0.2980 - 297ms/epoch - 4ms/step\n",
      "Epoch 42/200\n",
      "73/73 - 0s - loss: 1.0437 - acc: 0.5488 - mae: 0.2990 - val_loss: 1.0329 - val_acc: 0.5745 - val_mae: 0.3005 - 243ms/epoch - 3ms/step\n",
      "Epoch 43/200\n",
      "73/73 - 0s - loss: 1.0409 - acc: 0.5473 - mae: 0.2978 - val_loss: 1.0334 - val_acc: 0.5564 - val_mae: 0.2923 - 351ms/epoch - 5ms/step\n",
      "Epoch 44/200\n",
      "73/73 - 0s - loss: 1.0423 - acc: 0.5494 - mae: 0.2958 - val_loss: 1.0232 - val_acc: 0.5673 - val_mae: 0.2949 - 344ms/epoch - 5ms/step\n",
      "Epoch 45/200\n",
      "73/73 - 0s - loss: 1.0368 - acc: 0.5524 - mae: 0.2965 - val_loss: 1.0307 - val_acc: 0.5600 - val_mae: 0.2907 - 259ms/epoch - 4ms/step\n",
      "Epoch 46/200\n",
      "73/73 - 0s - loss: 1.0418 - acc: 0.5490 - mae: 0.2951 - val_loss: 1.0242 - val_acc: 0.5588 - val_mae: 0.2864 - 267ms/epoch - 4ms/step\n",
      "Epoch 47/200\n",
      "73/73 - 0s - loss: 1.0407 - acc: 0.5512 - mae: 0.2913 - val_loss: 1.0328 - val_acc: 0.5794 - val_mae: 0.2888 - 258ms/epoch - 4ms/step\n",
      "Epoch 48/200\n",
      "73/73 - 0s - loss: 1.0361 - acc: 0.5518 - mae: 0.2895 - val_loss: 1.0262 - val_acc: 0.5600 - val_mae: 0.2844 - 237ms/epoch - 3ms/step\n",
      "Epoch 49/200\n",
      "73/73 - 0s - loss: 1.0393 - acc: 0.5518 - mae: 0.2882 - val_loss: 1.0244 - val_acc: 0.5770 - val_mae: 0.2871 - 284ms/epoch - 4ms/step\n",
      "Epoch 50/200\n",
      "73/73 - 0s - loss: 1.0392 - acc: 0.5469 - mae: 0.2891 - val_loss: 1.0251 - val_acc: 0.5648 - val_mae: 0.2861 - 358ms/epoch - 5ms/step\n",
      "Epoch 51/200\n",
      "73/73 - 0s - loss: 1.0335 - acc: 0.5578 - mae: 0.2883 - val_loss: 1.0248 - val_acc: 0.5673 - val_mae: 0.2879 - 210ms/epoch - 3ms/step\n",
      "Epoch 52/200\n",
      "73/73 - 0s - loss: 1.0365 - acc: 0.5571 - mae: 0.2891 - val_loss: 1.0392 - val_acc: 0.5442 - val_mae: 0.2880 - 224ms/epoch - 3ms/step\n",
      "Epoch 53/200\n",
      "73/73 - 0s - loss: 1.0342 - acc: 0.5548 - mae: 0.2876 - val_loss: 1.0245 - val_acc: 0.5697 - val_mae: 0.2863 - 260ms/epoch - 4ms/step\n",
      "Epoch 54/200\n",
      "73/73 - 0s - loss: 1.0374 - acc: 0.5539 - mae: 0.2882 - val_loss: 1.0228 - val_acc: 0.5600 - val_mae: 0.2835 - 240ms/epoch - 3ms/step\n",
      "Epoch 55/200\n",
      "73/73 - 0s - loss: 1.0322 - acc: 0.5490 - mae: 0.2869 - val_loss: 1.0224 - val_acc: 0.5721 - val_mae: 0.2865 - 285ms/epoch - 4ms/step\n",
      "Epoch 56/200\n",
      "73/73 - 0s - loss: 1.0301 - acc: 0.5516 - mae: 0.2860 - val_loss: 1.0195 - val_acc: 0.5721 - val_mae: 0.2828 - 240ms/epoch - 3ms/step\n"
     ]
    },
    {
     "name": "stdout",
     "output_type": "stream",
     "text": [
      "Epoch 57/200\n",
      "73/73 - 0s - loss: 1.0289 - acc: 0.5595 - mae: 0.2870 - val_loss: 1.0237 - val_acc: 0.5600 - val_mae: 0.2803 - 273ms/epoch - 4ms/step\n",
      "Epoch 58/200\n",
      "73/73 - 0s - loss: 1.0308 - acc: 0.5559 - mae: 0.2849 - val_loss: 1.0196 - val_acc: 0.5794 - val_mae: 0.2823 - 372ms/epoch - 5ms/step\n",
      "Epoch 59/200\n",
      "73/73 - 0s - loss: 1.0289 - acc: 0.5524 - mae: 0.2846 - val_loss: 1.0241 - val_acc: 0.5624 - val_mae: 0.2820 - 233ms/epoch - 3ms/step\n",
      "Epoch 60/200\n",
      "73/73 - 0s - loss: 1.0267 - acc: 0.5593 - mae: 0.2843 - val_loss: 1.0271 - val_acc: 0.5818 - val_mae: 0.2797 - 299ms/epoch - 4ms/step\n",
      "Epoch 61/200\n",
      "73/73 - 0s - loss: 1.0276 - acc: 0.5537 - mae: 0.2840 - val_loss: 1.0232 - val_acc: 0.5600 - val_mae: 0.2766 - 263ms/epoch - 4ms/step\n",
      "Epoch 62/200\n",
      "73/73 - 0s - loss: 1.0288 - acc: 0.5503 - mae: 0.2819 - val_loss: 1.0288 - val_acc: 0.5600 - val_mae: 0.2771 - 343ms/epoch - 5ms/step\n",
      "Epoch 63/200\n",
      "73/73 - 0s - loss: 1.0274 - acc: 0.5621 - mae: 0.2820 - val_loss: 1.0236 - val_acc: 0.5527 - val_mae: 0.2769 - 320ms/epoch - 4ms/step\n",
      "Epoch 64/200\n",
      "73/73 - 0s - loss: 1.0259 - acc: 0.5537 - mae: 0.2829 - val_loss: 1.0194 - val_acc: 0.5745 - val_mae: 0.2808 - 320ms/epoch - 4ms/step\n",
      "Epoch 65/200\n",
      "73/73 - 0s - loss: 1.0259 - acc: 0.5599 - mae: 0.2836 - val_loss: 1.0198 - val_acc: 0.5685 - val_mae: 0.2779 - 253ms/epoch - 3ms/step\n",
      "Epoch 66/200\n",
      "73/73 - 0s - loss: 1.0293 - acc: 0.5619 - mae: 0.2805 - val_loss: 1.0225 - val_acc: 0.5661 - val_mae: 0.2782 - 240ms/epoch - 3ms/step\n",
      "Epoch 67/200\n",
      "73/73 - 0s - loss: 1.0185 - acc: 0.5655 - mae: 0.2801 - val_loss: 1.0351 - val_acc: 0.5697 - val_mae: 0.2830 - 239ms/epoch - 3ms/step\n",
      "Epoch 68/200\n",
      "73/73 - 0s - loss: 1.0231 - acc: 0.5591 - mae: 0.2799 - val_loss: 1.0209 - val_acc: 0.5733 - val_mae: 0.2775 - 329ms/epoch - 5ms/step\n",
      "Epoch 69/200\n",
      "73/73 - 0s - loss: 1.0245 - acc: 0.5606 - mae: 0.2791 - val_loss: 1.0231 - val_acc: 0.5636 - val_mae: 0.2741 - 257ms/epoch - 4ms/step\n",
      "Epoch 70/200\n",
      "73/73 - 0s - loss: 1.0180 - acc: 0.5616 - mae: 0.2770 - val_loss: 1.0224 - val_acc: 0.5794 - val_mae: 0.2762 - 243ms/epoch - 3ms/step\n",
      "Epoch 71/200\n",
      "73/73 - 0s - loss: 1.0170 - acc: 0.5636 - mae: 0.2773 - val_loss: 1.0245 - val_acc: 0.5612 - val_mae: 0.2742 - 265ms/epoch - 4ms/step\n",
      "Epoch 72/200\n",
      "73/73 - 0s - loss: 1.0218 - acc: 0.5582 - mae: 0.2775 - val_loss: 1.0202 - val_acc: 0.5624 - val_mae: 0.2735 - 243ms/epoch - 3ms/step\n",
      "Epoch 73/200\n",
      "73/73 - 0s - loss: 1.0201 - acc: 0.5593 - mae: 0.2765 - val_loss: 1.0215 - val_acc: 0.5697 - val_mae: 0.2770 - 246ms/epoch - 3ms/step\n",
      "Epoch 74/200\n",
      "73/73 - 0s - loss: 1.0178 - acc: 0.5627 - mae: 0.2766 - val_loss: 1.0178 - val_acc: 0.5782 - val_mae: 0.2730 - 305ms/epoch - 4ms/step\n",
      "Epoch 75/200\n",
      "73/73 - 0s - loss: 1.0207 - acc: 0.5589 - mae: 0.2749 - val_loss: 1.0231 - val_acc: 0.5806 - val_mae: 0.2755 - 305ms/epoch - 4ms/step\n",
      "Epoch 76/200\n",
      "73/73 - 0s - loss: 1.0207 - acc: 0.5638 - mae: 0.2751 - val_loss: 1.0207 - val_acc: 0.5782 - val_mae: 0.2716 - 233ms/epoch - 3ms/step\n",
      "Epoch 77/200\n",
      "73/73 - 0s - loss: 1.0165 - acc: 0.5610 - mae: 0.2728 - val_loss: 1.0222 - val_acc: 0.5697 - val_mae: 0.2740 - 225ms/epoch - 3ms/step\n",
      "Epoch 78/200\n",
      "73/73 - 0s - loss: 1.0162 - acc: 0.5683 - mae: 0.2759 - val_loss: 1.0203 - val_acc: 0.5745 - val_mae: 0.2731 - 229ms/epoch - 3ms/step\n",
      "Epoch 79/200\n",
      "73/73 - 0s - loss: 1.0189 - acc: 0.5616 - mae: 0.2751 - val_loss: 1.0193 - val_acc: 0.5636 - val_mae: 0.2676 - 218ms/epoch - 3ms/step\n",
      "Epoch 80/200\n",
      "73/73 - 0s - loss: 1.0171 - acc: 0.5646 - mae: 0.2732 - val_loss: 1.0280 - val_acc: 0.5600 - val_mae: 0.2682 - 229ms/epoch - 3ms/step\n",
      "Epoch 81/200\n",
      "73/73 - 0s - loss: 1.0087 - acc: 0.5619 - mae: 0.2730 - val_loss: 1.0194 - val_acc: 0.5794 - val_mae: 0.2715 - 228ms/epoch - 3ms/step\n",
      "Epoch 82/200\n",
      "73/73 - 0s - loss: 1.0099 - acc: 0.5711 - mae: 0.2729 - val_loss: 1.0225 - val_acc: 0.5697 - val_mae: 0.2698 - 222ms/epoch - 3ms/step\n",
      "Epoch 83/200\n",
      "73/73 - 0s - loss: 1.0122 - acc: 0.5638 - mae: 0.2716 - val_loss: 1.0209 - val_acc: 0.5733 - val_mae: 0.2692 - 233ms/epoch - 3ms/step\n",
      "Epoch 84/200\n",
      "73/73 - 0s - loss: 1.0168 - acc: 0.5616 - mae: 0.2702 - val_loss: 1.0176 - val_acc: 0.5830 - val_mae: 0.2695 - 243ms/epoch - 3ms/step\n",
      "Epoch 85/200\n",
      "73/73 - 0s - loss: 1.0135 - acc: 0.5595 - mae: 0.2699 - val_loss: 1.0200 - val_acc: 0.5661 - val_mae: 0.2722 - 223ms/epoch - 3ms/step\n",
      "Epoch 86/200\n",
      "73/73 - 0s - loss: 1.0087 - acc: 0.5706 - mae: 0.2705 - val_loss: 1.0156 - val_acc: 0.5697 - val_mae: 0.2674 - 219ms/epoch - 3ms/step\n",
      "Epoch 87/200\n",
      "73/73 - 0s - loss: 1.0108 - acc: 0.5651 - mae: 0.2683 - val_loss: 1.0206 - val_acc: 0.5770 - val_mae: 0.2705 - 222ms/epoch - 3ms/step\n",
      "Epoch 88/200\n",
      "73/73 - 0s - loss: 1.0124 - acc: 0.5608 - mae: 0.2699 - val_loss: 1.0209 - val_acc: 0.5879 - val_mae: 0.2661 - 221ms/epoch - 3ms/step\n",
      "Epoch 89/200\n",
      "73/73 - 0s - loss: 1.0117 - acc: 0.5693 - mae: 0.2682 - val_loss: 1.0182 - val_acc: 0.5648 - val_mae: 0.2643 - 225ms/epoch - 3ms/step\n",
      "Epoch 90/200\n",
      "73/73 - 0s - loss: 1.0105 - acc: 0.5664 - mae: 0.2679 - val_loss: 1.0204 - val_acc: 0.5842 - val_mae: 0.2677 - 272ms/epoch - 4ms/step\n",
      "Epoch 91/200\n",
      "73/73 - 0s - loss: 1.0091 - acc: 0.5670 - mae: 0.2695 - val_loss: 1.0278 - val_acc: 0.5576 - val_mae: 0.2643 - 304ms/epoch - 4ms/step\n",
      "Epoch 92/200\n",
      "73/73 - 0s - loss: 1.0106 - acc: 0.5702 - mae: 0.2677 - val_loss: 1.0184 - val_acc: 0.5709 - val_mae: 0.2626 - 310ms/epoch - 4ms/step\n",
      "Epoch 93/200\n",
      "73/73 - 0s - loss: 1.0139 - acc: 0.5636 - mae: 0.2685 - val_loss: 1.0181 - val_acc: 0.5709 - val_mae: 0.2623 - 276ms/epoch - 4ms/step\n",
      "Epoch 94/200\n",
      "73/73 - 0s - loss: 1.0130 - acc: 0.5679 - mae: 0.2661 - val_loss: 1.0264 - val_acc: 0.5697 - val_mae: 0.2704 - 271ms/epoch - 4ms/step\n",
      "Epoch 95/200\n",
      "73/73 - 0s - loss: 1.0086 - acc: 0.5726 - mae: 0.2663 - val_loss: 1.0206 - val_acc: 0.5818 - val_mae: 0.2655 - 288ms/epoch - 4ms/step\n",
      "Epoch 96/200\n",
      "73/73 - 0s - loss: 1.0111 - acc: 0.5646 - mae: 0.2669 - val_loss: 1.0324 - val_acc: 0.5770 - val_mae: 0.2686 - 256ms/epoch - 4ms/step\n"
     ]
    }
   ],
   "source": [
    "# early stopping \n",
    "# 에포크 수를 늘려 학습을 반복하면 과대적합을 일으킬 수 있다. early stopping 을 사용하면 과대적합이 발생하기 전에 학습을 멈춤\n",
    "# 에포크 수 200, 배치 사이즈 64, 10에포트 동안 손실함수가 줄어들지 않으면 학습 중지\n",
    "# 배치크기에 따라 모델 성능이 달라질 수 있기 때문에 중요하게 고려해야 하는 요소임\n",
    "\n",
    "from sklearn.model_selection import train_test_split\n",
    "from tensorflow.keras.callbacks import EarlyStopping\n",
    "\n",
    "x_tr, x_val, y_tr, y_val = train_test_split(x_train_scaled, y_train, test_size=0.15, shuffle=True, random_state=SEED)\n",
    "\n",
    "early_stopping = EarlyStopping(monitor='val_loss', patience=10)\n",
    "history = model.fit(x_tr, y_tr, batch_size=64, epochs=200,\n",
    "                   validation_data=(x_val, y_val),\n",
    "                   callbacks=[early_stopping],\n",
    "                   verbose=2)"
   ]
  },
  {
   "cell_type": "code",
   "execution_count": 18,
   "id": "d18cfa1d",
   "metadata": {},
   "outputs": [
    {
     "name": "stdout",
     "output_type": "stream",
     "text": [
      "26/26 [==============================] - 0s 2ms/step - loss: 1.0324 - acc: 0.5770 - mae: 0.2686\n"
     ]
    },
    {
     "data": {
      "text/plain": [
       "[1.0323983430862427, 0.5769696831703186, 0.2685515880584717]"
      ]
     },
     "execution_count": 18,
     "metadata": {},
     "output_type": "execute_result"
    }
   ],
   "source": [
    "model.evaluate(x_val, y_val)"
   ]
  },
  {
   "cell_type": "code",
   "execution_count": 29,
   "id": "e41e1baa",
   "metadata": {},
   "outputs": [
    {
     "data": {
      "image/png": "[encoded data removed]",
      "text/plain": [
       "<Figure size 1080x360 with 1 Axes>"
      ]
     },
     "metadata": {
      "needs_background": "light"
     },
     "output_type": "display_data"
    }
   ],
   "source": [
    "pd.DataFrame(history.history).plot(figsize = (15, 5))    \n",
    "plt.grid(True)\n",
    "plt.gca().set_ylim(0, 1)\n",
    "plt.show()"
   ]
  }
 ],
 "metadata": {
  "kernelspec": {
   "display_name": "Python 3",
   "language": "python",
   "name": "python3"
  },
  "language_info": {
   "codemirror_mode": {
    "name": "ipython",
    "version": 3
   },
   "file_extension": ".py",
   "mimetype": "text/x-python",
   "name": "python",
   "nbconvert_exporter": "python",
   "pygments_lexer": "ipython3",
   "version": "3.8.8"
  }
 },
 "nbformat": 4,
 "nbformat_minor": 5
}
