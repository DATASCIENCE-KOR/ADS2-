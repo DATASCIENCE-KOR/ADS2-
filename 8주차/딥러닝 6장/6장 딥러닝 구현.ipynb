{
 "cells": [
  {
   "cell_type": "markdown",
   "id": "671db8bc",
   "metadata": {},
   "source": [
    "### 붓꽃 데이터 품종 분류 (강재영)"
   ]
  },
  {
   "cell_type": "code",
   "execution_count": 41,
   "id": "c793c4bf",
   "metadata": {},
   "outputs": [],
   "source": [
    "import numpy as np\n",
    "import matplotlib.pyplot as plt\n",
    "from sklearn import datasets"
   ]
  },
  {
   "cell_type": "code",
   "execution_count": 42,
   "id": "7ba005e6",
   "metadata": {},
   "outputs": [],
   "source": [
    "# 데이터 불러오기\n",
    "iris_data = datasets.load_iris()\n",
    "input_data = iris_data.data\n",
    "correct = iris_data.target\n",
    "\n",
    "# 샘플 수\n",
    "n_data = len(correct)"
   ]
  },
  {
   "cell_type": "code",
   "execution_count": 43,
   "id": "5a051b1b",
   "metadata": {},
   "outputs": [
    {
     "data": {
      "text/plain": [
       "array([[5.1, 3.5, 1.4, 0.2],\n",
       "       [4.9, 3. , 1.4, 0.2],\n",
       "       [4.7, 3.2, 1.3, 0.2],\n",
       "       [4.6, 3.1, 1.5, 0.2],\n",
       "       [5. , 3.6, 1.4, 0.2],\n",
       "       [5.4, 3.9, 1.7, 0.4],\n",
       "       [4.6, 3.4, 1.4, 0.3],\n",
       "       [5. , 3.4, 1.5, 0.2],\n",
       "       [4.4, 2.9, 1.4, 0.2],\n",
       "       [4.9, 3.1, 1.5, 0.1],\n",
       "       [5.4, 3.7, 1.5, 0.2],\n",
       "       [4.8, 3.4, 1.6, 0.2],\n",
       "       [4.8, 3. , 1.4, 0.1],\n",
       "       [4.3, 3. , 1.1, 0.1],\n",
       "       [5.8, 4. , 1.2, 0.2],\n",
       "       [5.7, 4.4, 1.5, 0.4],\n",
       "       [5.4, 3.9, 1.3, 0.4],\n",
       "       [5.1, 3.5, 1.4, 0.3],\n",
       "       [5.7, 3.8, 1.7, 0.3],\n",
       "       [5.1, 3.8, 1.5, 0.3],\n",
       "       [5.4, 3.4, 1.7, 0.2],\n",
       "       [5.1, 3.7, 1.5, 0.4],\n",
       "       [4.6, 3.6, 1. , 0.2],\n",
       "       [5.1, 3.3, 1.7, 0.5],\n",
       "       [4.8, 3.4, 1.9, 0.2],\n",
       "       [5. , 3. , 1.6, 0.2],\n",
       "       [5. , 3.4, 1.6, 0.4],\n",
       "       [5.2, 3.5, 1.5, 0.2],\n",
       "       [5.2, 3.4, 1.4, 0.2],\n",
       "       [4.7, 3.2, 1.6, 0.2],\n",
       "       [4.8, 3.1, 1.6, 0.2],\n",
       "       [5.4, 3.4, 1.5, 0.4],\n",
       "       [5.2, 4.1, 1.5, 0.1],\n",
       "       [5.5, 4.2, 1.4, 0.2],\n",
       "       [4.9, 3.1, 1.5, 0.2],\n",
       "       [5. , 3.2, 1.2, 0.2],\n",
       "       [5.5, 3.5, 1.3, 0.2],\n",
       "       [4.9, 3.6, 1.4, 0.1],\n",
       "       [4.4, 3. , 1.3, 0.2],\n",
       "       [5.1, 3.4, 1.5, 0.2],\n",
       "       [5. , 3.5, 1.3, 0.3],\n",
       "       [4.5, 2.3, 1.3, 0.3],\n",
       "       [4.4, 3.2, 1.3, 0.2],\n",
       "       [5. , 3.5, 1.6, 0.6],\n",
       "       [5.1, 3.8, 1.9, 0.4],\n",
       "       [4.8, 3. , 1.4, 0.3],\n",
       "       [5.1, 3.8, 1.6, 0.2],\n",
       "       [4.6, 3.2, 1.4, 0.2],\n",
       "       [5.3, 3.7, 1.5, 0.2],\n",
       "       [5. , 3.3, 1.4, 0.2],\n",
       "       [7. , 3.2, 4.7, 1.4],\n",
       "       [6.4, 3.2, 4.5, 1.5],\n",
       "       [6.9, 3.1, 4.9, 1.5],\n",
       "       [5.5, 2.3, 4. , 1.3],\n",
       "       [6.5, 2.8, 4.6, 1.5],\n",
       "       [5.7, 2.8, 4.5, 1.3],\n",
       "       [6.3, 3.3, 4.7, 1.6],\n",
       "       [4.9, 2.4, 3.3, 1. ],\n",
       "       [6.6, 2.9, 4.6, 1.3],\n",
       "       [5.2, 2.7, 3.9, 1.4],\n",
       "       [5. , 2. , 3.5, 1. ],\n",
       "       [5.9, 3. , 4.2, 1.5],\n",
       "       [6. , 2.2, 4. , 1. ],\n",
       "       [6.1, 2.9, 4.7, 1.4],\n",
       "       [5.6, 2.9, 3.6, 1.3],\n",
       "       [6.7, 3.1, 4.4, 1.4],\n",
       "       [5.6, 3. , 4.5, 1.5],\n",
       "       [5.8, 2.7, 4.1, 1. ],\n",
       "       [6.2, 2.2, 4.5, 1.5],\n",
       "       [5.6, 2.5, 3.9, 1.1],\n",
       "       [5.9, 3.2, 4.8, 1.8],\n",
       "       [6.1, 2.8, 4. , 1.3],\n",
       "       [6.3, 2.5, 4.9, 1.5],\n",
       "       [6.1, 2.8, 4.7, 1.2],\n",
       "       [6.4, 2.9, 4.3, 1.3],\n",
       "       [6.6, 3. , 4.4, 1.4],\n",
       "       [6.8, 2.8, 4.8, 1.4],\n",
       "       [6.7, 3. , 5. , 1.7],\n",
       "       [6. , 2.9, 4.5, 1.5],\n",
       "       [5.7, 2.6, 3.5, 1. ],\n",
       "       [5.5, 2.4, 3.8, 1.1],\n",
       "       [5.5, 2.4, 3.7, 1. ],\n",
       "       [5.8, 2.7, 3.9, 1.2],\n",
       "       [6. , 2.7, 5.1, 1.6],\n",
       "       [5.4, 3. , 4.5, 1.5],\n",
       "       [6. , 3.4, 4.5, 1.6],\n",
       "       [6.7, 3.1, 4.7, 1.5],\n",
       "       [6.3, 2.3, 4.4, 1.3],\n",
       "       [5.6, 3. , 4.1, 1.3],\n",
       "       [5.5, 2.5, 4. , 1.3],\n",
       "       [5.5, 2.6, 4.4, 1.2],\n",
       "       [6.1, 3. , 4.6, 1.4],\n",
       "       [5.8, 2.6, 4. , 1.2],\n",
       "       [5. , 2.3, 3.3, 1. ],\n",
       "       [5.6, 2.7, 4.2, 1.3],\n",
       "       [5.7, 3. , 4.2, 1.2],\n",
       "       [5.7, 2.9, 4.2, 1.3],\n",
       "       [6.2, 2.9, 4.3, 1.3],\n",
       "       [5.1, 2.5, 3. , 1.1],\n",
       "       [5.7, 2.8, 4.1, 1.3],\n",
       "       [6.3, 3.3, 6. , 2.5],\n",
       "       [5.8, 2.7, 5.1, 1.9],\n",
       "       [7.1, 3. , 5.9, 2.1],\n",
       "       [6.3, 2.9, 5.6, 1.8],\n",
       "       [6.5, 3. , 5.8, 2.2],\n",
       "       [7.6, 3. , 6.6, 2.1],\n",
       "       [4.9, 2.5, 4.5, 1.7],\n",
       "       [7.3, 2.9, 6.3, 1.8],\n",
       "       [6.7, 2.5, 5.8, 1.8],\n",
       "       [7.2, 3.6, 6.1, 2.5],\n",
       "       [6.5, 3.2, 5.1, 2. ],\n",
       "       [6.4, 2.7, 5.3, 1.9],\n",
       "       [6.8, 3. , 5.5, 2.1],\n",
       "       [5.7, 2.5, 5. , 2. ],\n",
       "       [5.8, 2.8, 5.1, 2.4],\n",
       "       [6.4, 3.2, 5.3, 2.3],\n",
       "       [6.5, 3. , 5.5, 1.8],\n",
       "       [7.7, 3.8, 6.7, 2.2],\n",
       "       [7.7, 2.6, 6.9, 2.3],\n",
       "       [6. , 2.2, 5. , 1.5],\n",
       "       [6.9, 3.2, 5.7, 2.3],\n",
       "       [5.6, 2.8, 4.9, 2. ],\n",
       "       [7.7, 2.8, 6.7, 2. ],\n",
       "       [6.3, 2.7, 4.9, 1.8],\n",
       "       [6.7, 3.3, 5.7, 2.1],\n",
       "       [7.2, 3.2, 6. , 1.8],\n",
       "       [6.2, 2.8, 4.8, 1.8],\n",
       "       [6.1, 3. , 4.9, 1.8],\n",
       "       [6.4, 2.8, 5.6, 2.1],\n",
       "       [7.2, 3. , 5.8, 1.6],\n",
       "       [7.4, 2.8, 6.1, 1.9],\n",
       "       [7.9, 3.8, 6.4, 2. ],\n",
       "       [6.4, 2.8, 5.6, 2.2],\n",
       "       [6.3, 2.8, 5.1, 1.5],\n",
       "       [6.1, 2.6, 5.6, 1.4],\n",
       "       [7.7, 3. , 6.1, 2.3],\n",
       "       [6.3, 3.4, 5.6, 2.4],\n",
       "       [6.4, 3.1, 5.5, 1.8],\n",
       "       [6. , 3. , 4.8, 1.8],\n",
       "       [6.9, 3.1, 5.4, 2.1],\n",
       "       [6.7, 3.1, 5.6, 2.4],\n",
       "       [6.9, 3.1, 5.1, 2.3],\n",
       "       [5.8, 2.7, 5.1, 1.9],\n",
       "       [6.8, 3.2, 5.9, 2.3],\n",
       "       [6.7, 3.3, 5.7, 2.5],\n",
       "       [6.7, 3. , 5.2, 2.3],\n",
       "       [6.3, 2.5, 5. , 1.9],\n",
       "       [6.5, 3. , 5.2, 2. ],\n",
       "       [6.2, 3.4, 5.4, 2.3],\n",
       "       [5.9, 3. , 5.1, 1.8]])"
      ]
     },
     "execution_count": 43,
     "metadata": {},
     "output_type": "execute_result"
    }
   ],
   "source": [
    "input_data"
   ]
  },
  {
   "cell_type": "code",
   "execution_count": 44,
   "id": "0632de5f",
   "metadata": {},
   "outputs": [
    {
     "data": {
      "text/plain": [
       "array([0, 0, 0, 0, 0, 0, 0, 0, 0, 0, 0, 0, 0, 0, 0, 0, 0, 0, 0, 0, 0, 0,\n",
       "       0, 0, 0, 0, 0, 0, 0, 0, 0, 0, 0, 0, 0, 0, 0, 0, 0, 0, 0, 0, 0, 0,\n",
       "       0, 0, 0, 0, 0, 0, 1, 1, 1, 1, 1, 1, 1, 1, 1, 1, 1, 1, 1, 1, 1, 1,\n",
       "       1, 1, 1, 1, 1, 1, 1, 1, 1, 1, 1, 1, 1, 1, 1, 1, 1, 1, 1, 1, 1, 1,\n",
       "       1, 1, 1, 1, 1, 1, 1, 1, 1, 1, 1, 1, 2, 2, 2, 2, 2, 2, 2, 2, 2, 2,\n",
       "       2, 2, 2, 2, 2, 2, 2, 2, 2, 2, 2, 2, 2, 2, 2, 2, 2, 2, 2, 2, 2, 2,\n",
       "       2, 2, 2, 2, 2, 2, 2, 2, 2, 2, 2, 2, 2, 2, 2, 2, 2, 2])"
      ]
     },
     "execution_count": 44,
     "metadata": {},
     "output_type": "execute_result"
    }
   ],
   "source": [
    "correct"
   ]
  },
  {
   "attachments": {
    "image.png": {
     "image/png": "[encoded data removed]"
    }
   },
   "cell_type": "markdown",
   "id": "6d06a71a",
   "metadata": {},
   "source": [
    "#### 표준화 식\n",
    "#### ![image.png](attachment:image.png)\n",
    "#### z: 표준화된 데이터\n",
    "#### X: 원래 데이터\n",
    "#### μ: 원래 데이터의 평균값\n",
    "#### σ: 원래 데이터의 표준편차"
   ]
  },
  {
   "cell_type": "code",
   "execution_count": 45,
   "id": "a44cd5f5",
   "metadata": {},
   "outputs": [],
   "source": [
    "# 입력 데이터 표준화\n",
    "ave_input = np.average(input_data, axis=0)\n",
    "std_input = np.std(input_data, axis=0)\n",
    "input_data = (input_data - ave_input) / std_input"
   ]
  },
  {
   "cell_type": "code",
   "execution_count": 46,
   "id": "656ee295",
   "metadata": {},
   "outputs": [],
   "source": [
    "# 정답을 One-Hot encoding\n",
    "correct_data = np.zeros((n_data, 3))\n",
    "for i in range(n_data):\n",
    "    correct_data[i, correct[i]] = 1.0"
   ]
  },
  {
   "cell_type": "code",
   "execution_count": 47,
   "id": "95de463d",
   "metadata": {},
   "outputs": [],
   "source": [
    "# 훈련 데이터와 테스트 데이터\n",
    "index = np.arange(n_data)\n",
    "index_train = index[index%2 == 0]\n",
    "index_test = index[index%2 != 0]\n",
    "\n",
    "# 훈련 데이터 입력\n",
    "input_train = input_data[index_train, :]\n",
    "# 훈련 데이터 정답\n",
    "correct_train = correct_data[index_train, :]\n",
    "# 테스트 데이터 입력\n",
    "input_test = input_data[index_test, :]\n",
    "# 테스트 데이터 정답\n",
    "correct_test = correct_data[index_test, :]\n",
    "\n",
    "# 훈련 데이터 샘플 수\n",
    "n_train = input_train.shape[0]\n",
    "# 테스트 데이터 샘플 수\n",
    "n_test = input_test.shape[0]\n",
    "\n",
    "# 각 설정 값\n",
    "n_in = 4\n",
    "n_mid = 25\n",
    "n_out = 3\n",
    "\n",
    "wb_width = 0.1\n",
    "eta = 0.01\n",
    "epoch = 1000\n",
    "batch_size = 8\n",
    "interval = 100"
   ]
  },
  {
   "cell_type": "code",
   "execution_count": 48,
   "id": "44f726fd",
   "metadata": {},
   "outputs": [],
   "source": [
    "# 각 층의 부모 클래스 생성\n",
    "class BaseLayer:\n",
    "    def __init__(self, n_upper, n):\n",
    "        self.w = wb_width * np.random.randn(n_upper, n)\n",
    "        self.b = wb_width * np.random.randn(n)\n",
    "        \n",
    "    def update(self, eta):\n",
    "        self.w -= eta * self.grad_w\n",
    "        self.b -= eta * self.grad_b\n",
    "        \n",
    "# 은닉층\n",
    "class MiddleLayer(BaseLayer):\n",
    "    def forward(self, x):\n",
    "        self.x = x\n",
    "        self.u = np.dot(x,self.w) + self.b\n",
    "        self.y = np.where(self.u <= 0, 0, self.u) # ReLU\n",
    "        \n",
    "    def backward(self, grad_y):\n",
    "        delta = grad_y * np.where(self.u <= 0, 0, 1) # ReLU 미분\n",
    "        \n",
    "        self.grad_w = np.dot(self.x.T, delta)\n",
    "        self.grad_b = np.sum(delta, axis=0)\n",
    "        self.grad_x = np.dot(delta, self.w.T)\n",
    "\n",
    "# 출력층\n",
    "class OutputLayer(BaseLayer):\n",
    "    def forward(self,x):\n",
    "        self.x = x\n",
    "        u = np.dot(x, self.w) + self.b\n",
    "        self.y = np.exp(u)/np.sum(np.exp(u), axis=1, keepdims=True)\n",
    "        \n",
    "    def backward(self, t):\n",
    "        delta = self.y -t\n",
    "        \n",
    "        self.grad_w = np.dot(self.x.T, delta)\n",
    "        self.grad_b = np.sum(delta, axis=0)\n",
    "        self.grad_x = np.dot(delta, self.w.T)"
   ]
  },
  {
   "cell_type": "code",
   "execution_count": 49,
   "id": "1091c68c",
   "metadata": {},
   "outputs": [],
   "source": [
    "# 각 층 초기화\n",
    "middle_layer_1 = MiddleLayer(n_in, n_mid)\n",
    "middle_layer_2 = MiddleLayer(n_mid, n_mid)\n",
    "output_layer = OutputLayer(n_mid, n_out)"
   ]
  },
  {
   "cell_type": "code",
   "execution_count": 50,
   "id": "07e5f36b",
   "metadata": {},
   "outputs": [],
   "source": [
    "# 순전파\n",
    "def forward_propagation(x):\n",
    "    middle_layer_1.forward(x)\n",
    "    middle_layer_2.forward(middle_layer_1.y)\n",
    "    output_layer.forward(middle_layer_2.y)\n",
    "    \n",
    "# 역전파\n",
    "def backpropagation(t):\n",
    "    output_layer.backward(t)\n",
    "    middle_layer_2.backward(output_layer.grad_x)\n",
    "    middle_layer_1.backward(middle_layer_2.grad_x)"
   ]
  },
  {
   "cell_type": "code",
   "execution_count": 51,
   "id": "83b9e236",
   "metadata": {},
   "outputs": [],
   "source": [
    "# 가중치와 편향 수정\n",
    "def uppdate_wb():\n",
    "    middle_layer_1.update(eta)\n",
    "    middle_layer_2.update(eta)\n",
    "    output_layer.update(eta)"
   ]
  },
  {
   "cell_type": "code",
   "execution_count": 52,
   "id": "897f72f5",
   "metadata": {},
   "outputs": [],
   "source": [
    "# 교차 엔트로피 오차 계산\n",
    "def get_error(t, batch_size):\n",
    "    return -np.sum(t * np.log(output_layer.y + 1e-7) / batch_size)"
   ]
  },
  {
   "cell_type": "code",
   "execution_count": 53,
   "id": "d4a28c93",
   "metadata": {},
   "outputs": [],
   "source": [
    "# 오차 기록용\n",
    "train_error_x = []\n",
    "train_error_y = []\n",
    "test_error_x = []\n",
    "test_error_y = []"
   ]
  },
  {
   "cell_type": "code",
   "execution_count": 54,
   "id": "e327ef6e",
   "metadata": {},
   "outputs": [
    {
     "name": "stdout",
     "output_type": "stream",
     "text": [
      "Epoch:0/1000 Error_train:1.0991655200614137 Error_test:1.098637401295888\n",
      "Epoch:100/1000 Error_train:0.027870068612140857 Error_test:0.068680069010504\n",
      "Epoch:200/1000 Error_train:0.02065481956045044 Error_test:0.09217770829000177\n",
      "Epoch:300/1000 Error_train:0.0110330540610025 Error_test:0.10515721215461296\n",
      "Epoch:400/1000 Error_train:0.010817971056487016 Error_test:0.1230757371301025\n",
      "Epoch:500/1000 Error_train:0.007315179454241895 Error_test:0.1451068517302633\n",
      "Epoch:600/1000 Error_train:0.003960477003196009 Error_test:0.16344431627599404\n",
      "Epoch:700/1000 Error_train:0.002385593360120456 Error_test:0.18018404334180257\n",
      "Epoch:800/1000 Error_train:0.0020775551463717125 Error_test:0.19415114034375555\n",
      "Epoch:900/1000 Error_train:0.0013906014291602824 Error_test:0.2048642536702218\n"
     ]
    }
   ],
   "source": [
    "# 학습과 경과 기록\n",
    "\n",
    "# 1 에포크당 배치 수\n",
    "n_batch = n_train // batch_size\n",
    "for i in range(epoch):\n",
    "    \n",
    "    # 오차 계측\n",
    "    forward_propagation(input_train)\n",
    "    error_train = get_error(correct_train, n_train)\n",
    "    forward_propagation(input_test)\n",
    "    error_test = get_error(correct_test, n_test)\n",
    "    \n",
    "    # 오차 기록\n",
    "    test_error_x.append(i)\n",
    "    test_error_y.append(error_test)\n",
    "    train_error_x.append(i)\n",
    "    train_error_y.append(error_train)\n",
    "    \n",
    "    # 경과 표시\n",
    "    if i%interval == 0:\n",
    "        print(\"Epoch:\" + str(i) + \"/\" + str(epoch),\n",
    "              \"Error_train:\" + str(error_train),\n",
    "              \"Error_test:\" + str(error_test))\n",
    "        \n",
    "    # 학습\n",
    "    index_random = np.arange(n_train)\n",
    "    np.random.shuffle(index_random)\n",
    "    \n",
    "    for j in range(n_batch):\n",
    "        \n",
    "        #미니 배치 샘플 추출\n",
    "        mb_index = index_random[j*batch_size : (j+1)*batch_size]\n",
    "        x = input_train[mb_index, :]\n",
    "        t = correct_train[mb_index, :]\n",
    "        \n",
    "        # 순전파와 역전파\n",
    "        forward_propagation(x)\n",
    "        backpropagation(t)\n",
    "        \n",
    "        # 가중치와 편향 수정\n",
    "        uppdate_wb()"
   ]
  },
  {
   "cell_type": "code",
   "execution_count": 55,
   "id": "0f903636",
   "metadata": {},
   "outputs": [
    {
     "data": {
      "image/png": "[encoded data removed]",
      "text/plain": [
       "<Figure size 640x480 with 1 Axes>"
      ]
     },
     "metadata": {},
     "output_type": "display_data"
    }
   ],
   "source": [
    "# 기록된 오차를 그래프로 표시\n",
    "plt.plot(train_error_x, train_error_y, label=\"Train\")\n",
    "plt.plot(test_error_x, test_error_y, label=\"Test\")\n",
    "plt.legend()\n",
    "plt.xlabel(\"Epochs\")\n",
    "plt.ylabel(\"Error\")\n",
    "\n",
    "plt.show()"
   ]
  },
  {
   "cell_type": "code",
   "execution_count": 56,
   "id": "99b00869",
   "metadata": {},
   "outputs": [
    {
     "name": "stdout",
     "output_type": "stream",
     "text": [
      "Accuracy Train: 100.0% Accuracy Test: 97.33333333333334%\n"
     ]
    }
   ],
   "source": [
    "# 정답률 측정\n",
    "forward_propagation(input_train)\n",
    "count_train = np.sum(np.argmax(output_layer.y,\n",
    "        axis=1) == np.argmax(correct_train, axis=1))\n",
    "\n",
    "forward_propagation(input_test)\n",
    "count_test = np.sum(np.argmax(output_layer.y,\n",
    "        axis=1) == np.argmax(correct_test, axis=1))\n",
    "\n",
    "print(\"Accuracy Train:\", str(count_train/n_train*100) + \"%\",\n",
    "     \"Accuracy Test:\", str(count_test/n_test*100) + \"%\")"
   ]
  },
  {
   "cell_type": "markdown",
   "id": "0d4380fb",
   "metadata": {},
   "source": [
    "### - 결과\n",
    "#### 학습이 진행됨에 따라 훈련 오차와 테스트 오차의 차이가 벌어지며 과적합 발생 (신경망이 훈련 데이터에 과도하게 적응함, 훈련 데이터 샘플 수가 75개로 적음)\n",
    "#### 1000 epoch를 학습시킨 결과 정답률: 93.3%"
   ]
  },
  {
   "cell_type": "markdown",
   "id": "c186a666",
   "metadata": {},
   "source": [
    "### - 과적합 방지 대책\n",
    "#### ① 최적화 알고리즘을 확률적 경사 하강법에서 Adagrad로 변경\n",
    "#### ② Dropout 도입"
   ]
  },
  {
   "attachments": {
    "image.png": {
     "image/png": "[encoded data removed]"
    }
   },
   "cell_type": "markdown",
   "id": "eba631ee",
   "metadata": {},
   "source": [
    "### - Adagrad 구현\n",
    "#### ![image.png](attachment:image.png)\n",
    "#### h는 매 회 수정할 때마다 증가하기 때문에 다음번 수정량은 조금씩 감소됨\n",
    "#### 편향 수정식은 가중치 수정식과 동일"
   ]
  },
  {
   "cell_type": "code",
   "execution_count": 57,
   "id": "9f8be960",
   "metadata": {},
   "outputs": [],
   "source": [
    "# 아다그라드 적용\n",
    "class BaseLayer:\n",
    "    def __init__(self, n_upper, n):\n",
    "        self.w = wb_width * np.random.randn(n_upper, n)\n",
    "        self.b = wb_width * np.random.randn(n)\n",
    "        self.h_w = np.zeros(( n_upper, n)) + 1e-8\n",
    "        self.h_b = np.zeros(n) + 1e-8\n",
    "    \n",
    "    def update(self, eta):\n",
    "        self.h_w += self.grad_w * self.grad_w\n",
    "        self.w -= eta / np.sqrt(self.h_w) * self.grad_w\n",
    "        \n",
    "        self.h_b += self.grad_b * self.grad_b\n",
    "        self.b -= eta / np.sqrt(self.h_b) * self.grad_b"
   ]
  },
  {
   "attachments": {
    "image.png": {
     "image/png": "[encoded data removed]"
    }
   },
   "cell_type": "markdown",
   "id": "0dfef932",
   "metadata": {},
   "source": [
    "### - Dropout 구현\n",
    "#### ![image.png](attachment:image.png)"
   ]
  },
  {
   "cell_type": "code",
   "execution_count": 58,
   "id": "906b97e3",
   "metadata": {},
   "outputs": [],
   "source": [
    "# 드롭아웃\n",
    "class Dropout:\n",
    "    def __init__(self, dropout_ratio):\n",
    "        self.dropout_ratio = dropout_ratio\n",
    "    \n",
    "    def forward(self, x, is_train):   # is train: 학습할 때는 True\n",
    "        if is_train:\n",
    "            rand = np.random.rand(*x.shape)   # 난수 행렬\n",
    "            self.dropout = np.where(rand > self.dropout_ratio, 1, 0)\n",
    "            self.y = x * self.dropout   # 뉴런을 무작위로 무효화\n",
    "        else:\n",
    "            self.y = (1-self.dropout_ratio)*x\n",
    "            \n",
    "    def backward(self, grad_y):\n",
    "        self.grad_x = grad_y * self.dropout"
   ]
  },
  {
   "cell_type": "code",
   "execution_count": 61,
   "id": "55979968",
   "metadata": {},
   "outputs": [],
   "source": [
    "# 각 층의 초기화\n",
    "middle_layer_1 = MiddleLayer(n_in, n_mid)\n",
    "dropout_1 = Dropout(0.5)\n",
    "middle_layer_2 = MiddleLayer(n_mid, n_mid)\n",
    "dropout_2 = Dropout(0.5)\n",
    "output_layer = OutputLayer(n_mid, n_out)\n",
    "\n",
    "# 순전파\n",
    "def forward_propagation(x, is_train):\n",
    "    middle_layer_1.forward(x)\n",
    "    dropout_1.forward(middle_layer_1.y, is_train)\n",
    "    middle_layer_2.forward(dropout_1.y)\n",
    "    dropout_2.forward(middle_layer_2.y, is_train)\n",
    "    output_layer.forward(dropout_2.y)\n",
    "    \n",
    "# 역전파\n",
    "def backpropagation(t):\n",
    "    output_layer.backward(t)\n",
    "    dropout_2.backward(output_layer.grad_x)\n",
    "    middle_layer_2.backward(dropout_2.grad_x)\n",
    "    dropout_1.backward(middle_layer_2.grad_x)\n",
    "    middle_layer_1.backward(dropout_1.grad_x)"
   ]
  },
  {
   "cell_type": "code",
   "execution_count": 62,
   "id": "9ff0e5d2",
   "metadata": {},
   "outputs": [
    {
     "name": "stdout",
     "output_type": "stream",
     "text": [
      "[[0.31597428 0.3729134  0.31111232]\n",
      " [0.31687664 0.37168793 0.31143543]\n",
      " [0.31722886 0.37386134 0.3089098 ]\n",
      " [0.31846595 0.36911677 0.31241728]]\n"
     ]
    }
   ],
   "source": [
    "samples = np.array([[5.0, 3.5, 1.0, 0.5],\n",
    "                   [5.5, 2.5, 4.0, 1.0],\n",
    "                   [7.0, 3.0, 6.0, 2.0],\n",
    "                   [6.6, 2.5, 1.5, 0.2]\n",
    "                   ])\n",
    "\n",
    "# 표준화\n",
    "ave_input = np.average(samples, axis=0)\n",
    "std_input = np.std(samples, axis=0)\n",
    "samples = (samples - ave_input) / std_input\n",
    "\n",
    "forward_propagation(samples, False)   # False는 훈련 데이터가 아님을 표시\n",
    "print(output_layer.y)"
   ]
  },
  {
   "cell_type": "markdown",
   "id": "54951511",
   "metadata": {},
   "source": [
    "### - 결과\n",
    "#### 각 행은 꽃을 나타냄\n",
    "#### 열은 왼쪽부터 세토사, 버지컬러, 버지니카 품종을 의미"
   ]
  }
 ],
 "metadata": {
  "kernelspec": {
   "display_name": "Python 3",
   "language": "python",
   "name": "python3"
  },
  "language_info": {
   "codemirror_mode": {
    "name": "ipython",
    "version": 3
   },
   "file_extension": ".py",
   "mimetype": "text/x-python",
   "name": "python",
   "nbconvert_exporter": "python",
   "pygments_lexer": "ipython3",
   "version": "3.8.10"
  }
 },
 "nbformat": 4,
 "nbformat_minor": 5
}
